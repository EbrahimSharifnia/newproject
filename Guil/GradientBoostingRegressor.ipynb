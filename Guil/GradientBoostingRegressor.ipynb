{
 "cells": [
  {
   "cell_type": "code",
   "execution_count": 33,
   "metadata": {},
   "outputs": [],
   "source": [
    "import numpy as np\n",
    "import pandas as pd\n",
    "import matplotlib.pyplot as plt\n",
    "import scipy.stats\n",
    "from scipy.stats import norm\n",
    "from scipy.stats import bootstrap\n",
    "\n",
    "from sklearn.linear_model import LogisticRegression\n",
    "from sklearn.model_selection import train_test_split\n",
    "from sklearn.preprocessing import StandardScaler\n",
    "from sklearn.preprocessing import MinMaxScaler\n",
    "from sklearn.ensemble import GradientBoostingRegressor\n"
   ]
  },
  {
   "cell_type": "code",
   "execution_count": 34,
   "metadata": {},
   "outputs": [],
   "source": [
    "df = pd.read_excel(\"Data_Predictive_Models.xlsx\", sheet_name = \"Data_Predictive_Models\")\n",
    "# df"
   ]
  },
  {
   "cell_type": "markdown",
   "metadata": {},
   "source": [
    "## Process indicators (separate responses):"
   ]
  },
  {
   "cell_type": "code",
   "execution_count": 45,
   "metadata": {},
   "outputs": [
    {
     "data": {
      "text/html": [
       "<div>\n",
       "<style scoped>\n",
       "    .dataframe tbody tr th:only-of-type {\n",
       "        vertical-align: middle;\n",
       "    }\n",
       "\n",
       "    .dataframe tbody tr th {\n",
       "        vertical-align: top;\n",
       "    }\n",
       "\n",
       "    .dataframe thead th {\n",
       "        text-align: right;\n",
       "    }\n",
       "</style>\n",
       "<table border=\"1\" class=\"dataframe\">\n",
       "  <thead>\n",
       "    <tr style=\"text-align: right;\">\n",
       "      <th></th>\n",
       "      <th>NS</th>\n",
       "    </tr>\n",
       "  </thead>\n",
       "  <tbody>\n",
       "    <tr>\n",
       "      <th>0</th>\n",
       "      <td>7.284552e+05</td>\n",
       "    </tr>\n",
       "    <tr>\n",
       "      <th>1</th>\n",
       "      <td>7.304067e+05</td>\n",
       "    </tr>\n",
       "    <tr>\n",
       "      <th>2</th>\n",
       "      <td>1.332367e+06</td>\n",
       "    </tr>\n",
       "    <tr>\n",
       "      <th>3</th>\n",
       "      <td>1.120701e+06</td>\n",
       "    </tr>\n",
       "    <tr>\n",
       "      <th>4</th>\n",
       "      <td>6.907727e+05</td>\n",
       "    </tr>\n",
       "    <tr>\n",
       "      <th>5</th>\n",
       "      <td>1.205736e+06</td>\n",
       "    </tr>\n",
       "    <tr>\n",
       "      <th>6</th>\n",
       "      <td>6.221503e+05</td>\n",
       "    </tr>\n",
       "    <tr>\n",
       "      <th>7</th>\n",
       "      <td>7.103217e+05</td>\n",
       "    </tr>\n",
       "    <tr>\n",
       "      <th>8</th>\n",
       "      <td>7.402124e+05</td>\n",
       "    </tr>\n",
       "    <tr>\n",
       "      <th>9</th>\n",
       "      <td>6.015154e+05</td>\n",
       "    </tr>\n",
       "    <tr>\n",
       "      <th>10</th>\n",
       "      <td>7.421989e+05</td>\n",
       "    </tr>\n",
       "    <tr>\n",
       "      <th>11</th>\n",
       "      <td>5.060789e+05</td>\n",
       "    </tr>\n",
       "    <tr>\n",
       "      <th>12</th>\n",
       "      <td>5.264930e+05</td>\n",
       "    </tr>\n",
       "    <tr>\n",
       "      <th>13</th>\n",
       "      <td>7.654479e+05</td>\n",
       "    </tr>\n",
       "    <tr>\n",
       "      <th>14</th>\n",
       "      <td>9.677078e+05</td>\n",
       "    </tr>\n",
       "    <tr>\n",
       "      <th>15</th>\n",
       "      <td>2.163590e+05</td>\n",
       "    </tr>\n",
       "    <tr>\n",
       "      <th>16</th>\n",
       "      <td>8.827033e+05</td>\n",
       "    </tr>\n",
       "    <tr>\n",
       "      <th>17</th>\n",
       "      <td>1.060082e+06</td>\n",
       "    </tr>\n",
       "    <tr>\n",
       "      <th>18</th>\n",
       "      <td>5.779487e+05</td>\n",
       "    </tr>\n",
       "    <tr>\n",
       "      <th>19</th>\n",
       "      <td>1.264609e+06</td>\n",
       "    </tr>\n",
       "    <tr>\n",
       "      <th>20</th>\n",
       "      <td>8.530081e+05</td>\n",
       "    </tr>\n",
       "    <tr>\n",
       "      <th>21</th>\n",
       "      <td>8.420256e+05</td>\n",
       "    </tr>\n",
       "    <tr>\n",
       "      <th>22</th>\n",
       "      <td>8.269086e+05</td>\n",
       "    </tr>\n",
       "    <tr>\n",
       "      <th>23</th>\n",
       "      <td>9.698359e+05</td>\n",
       "    </tr>\n",
       "    <tr>\n",
       "      <th>24</th>\n",
       "      <td>9.121351e+05</td>\n",
       "    </tr>\n",
       "    <tr>\n",
       "      <th>25</th>\n",
       "      <td>1.037348e+06</td>\n",
       "    </tr>\n",
       "    <tr>\n",
       "      <th>26</th>\n",
       "      <td>1.284036e+06</td>\n",
       "    </tr>\n",
       "    <tr>\n",
       "      <th>27</th>\n",
       "      <td>1.076969e+06</td>\n",
       "    </tr>\n",
       "    <tr>\n",
       "      <th>28</th>\n",
       "      <td>1.038604e+06</td>\n",
       "    </tr>\n",
       "    <tr>\n",
       "      <th>29</th>\n",
       "      <td>1.076229e+06</td>\n",
       "    </tr>\n",
       "    <tr>\n",
       "      <th>30</th>\n",
       "      <td>8.179790e+05</td>\n",
       "    </tr>\n",
       "    <tr>\n",
       "      <th>31</th>\n",
       "      <td>9.831301e+05</td>\n",
       "    </tr>\n",
       "    <tr>\n",
       "      <th>32</th>\n",
       "      <td>9.231783e+05</td>\n",
       "    </tr>\n",
       "    <tr>\n",
       "      <th>33</th>\n",
       "      <td>1.015414e+06</td>\n",
       "    </tr>\n",
       "    <tr>\n",
       "      <th>34</th>\n",
       "      <td>1.106287e+06</td>\n",
       "    </tr>\n",
       "    <tr>\n",
       "      <th>35</th>\n",
       "      <td>6.171585e+05</td>\n",
       "    </tr>\n",
       "    <tr>\n",
       "      <th>36</th>\n",
       "      <td>1.085896e+06</td>\n",
       "    </tr>\n",
       "    <tr>\n",
       "      <th>37</th>\n",
       "      <td>1.022012e+06</td>\n",
       "    </tr>\n",
       "    <tr>\n",
       "      <th>38</th>\n",
       "      <td>1.497733e+06</td>\n",
       "    </tr>\n",
       "    <tr>\n",
       "      <th>39</th>\n",
       "      <td>1.403447e+06</td>\n",
       "    </tr>\n",
       "    <tr>\n",
       "      <th>40</th>\n",
       "      <td>1.438191e+06</td>\n",
       "    </tr>\n",
       "    <tr>\n",
       "      <th>41</th>\n",
       "      <td>1.604156e+06</td>\n",
       "    </tr>\n",
       "    <tr>\n",
       "      <th>42</th>\n",
       "      <td>1.112992e+06</td>\n",
       "    </tr>\n",
       "    <tr>\n",
       "      <th>43</th>\n",
       "      <td>1.429285e+06</td>\n",
       "    </tr>\n",
       "    <tr>\n",
       "      <th>44</th>\n",
       "      <td>1.134213e+06</td>\n",
       "    </tr>\n",
       "    <tr>\n",
       "      <th>45</th>\n",
       "      <td>1.177913e+06</td>\n",
       "    </tr>\n",
       "    <tr>\n",
       "      <th>46</th>\n",
       "      <td>1.106375e+06</td>\n",
       "    </tr>\n",
       "    <tr>\n",
       "      <th>47</th>\n",
       "      <td>1.286561e+06</td>\n",
       "    </tr>\n",
       "    <tr>\n",
       "      <th>48</th>\n",
       "      <td>1.165945e+06</td>\n",
       "    </tr>\n",
       "    <tr>\n",
       "      <th>49</th>\n",
       "      <td>1.138028e+06</td>\n",
       "    </tr>\n",
       "  </tbody>\n",
       "</table>\n",
       "</div>"
      ],
      "text/plain": [
       "              NS\n",
       "0   7.284552e+05\n",
       "1   7.304067e+05\n",
       "2   1.332367e+06\n",
       "3   1.120701e+06\n",
       "4   6.907727e+05\n",
       "5   1.205736e+06\n",
       "6   6.221503e+05\n",
       "7   7.103217e+05\n",
       "8   7.402124e+05\n",
       "9   6.015154e+05\n",
       "10  7.421989e+05\n",
       "11  5.060789e+05\n",
       "12  5.264930e+05\n",
       "13  7.654479e+05\n",
       "14  9.677078e+05\n",
       "15  2.163590e+05\n",
       "16  8.827033e+05\n",
       "17  1.060082e+06\n",
       "18  5.779487e+05\n",
       "19  1.264609e+06\n",
       "20  8.530081e+05\n",
       "21  8.420256e+05\n",
       "22  8.269086e+05\n",
       "23  9.698359e+05\n",
       "24  9.121351e+05\n",
       "25  1.037348e+06\n",
       "26  1.284036e+06\n",
       "27  1.076969e+06\n",
       "28  1.038604e+06\n",
       "29  1.076229e+06\n",
       "30  8.179790e+05\n",
       "31  9.831301e+05\n",
       "32  9.231783e+05\n",
       "33  1.015414e+06\n",
       "34  1.106287e+06\n",
       "35  6.171585e+05\n",
       "36  1.085896e+06\n",
       "37  1.022012e+06\n",
       "38  1.497733e+06\n",
       "39  1.403447e+06\n",
       "40  1.438191e+06\n",
       "41  1.604156e+06\n",
       "42  1.112992e+06\n",
       "43  1.429285e+06\n",
       "44  1.134213e+06\n",
       "45  1.177913e+06\n",
       "46  1.106375e+06\n",
       "47  1.286561e+06\n",
       "48  1.165945e+06\n",
       "49  1.138028e+06"
      ]
     },
     "execution_count": 45,
     "metadata": {},
     "output_type": "execute_result"
    }
   ],
   "source": [
    "Y = df.iloc[:,[25]]\n",
    "X = df.iloc[:,1:24]\n",
    "Y"
   ]
  },
  {
   "cell_type": "code",
   "execution_count": 46,
   "metadata": {},
   "outputs": [
    {
     "data": {
      "text/plain": [
       "array([[0.36899927],\n",
       "       [0.37040544],\n",
       "       [0.80415777],\n",
       "       [0.65163839],\n",
       "       [0.34184653],\n",
       "       [0.71291198],\n",
       "       [0.29239954],\n",
       "       [0.35593289],\n",
       "       [0.37747114],\n",
       "       [0.27753069],\n",
       "       [0.37890255],\n",
       "       [0.20876236],\n",
       "       [0.22347211],\n",
       "       [0.39565497],\n",
       "       [0.54139668],\n",
       "       [0.        ],\n",
       "       [0.4801453 ],\n",
       "       [0.60795816],\n",
       "       [0.26054933],\n",
       "       [0.75533376],\n",
       "       [0.45874788],\n",
       "       [0.45083426],\n",
       "       [0.43994148],\n",
       "       [0.54293012],\n",
       "       [0.50135285],\n",
       "       [0.59157731],\n",
       "       [0.76933185],\n",
       "       [0.6201266 ],\n",
       "       [0.59248242],\n",
       "       [0.61959313],\n",
       "       [0.43350711],\n",
       "       [0.55250945],\n",
       "       [0.5093102 ],\n",
       "       [0.57577222],\n",
       "       [0.6412524 ],\n",
       "       [0.28880264],\n",
       "       [0.62655931],\n",
       "       [0.58052635],\n",
       "       [0.92331531],\n",
       "       [0.8553757 ],\n",
       "       [0.88041117],\n",
       "       [1.        ],\n",
       "       [0.64608339],\n",
       "       [0.87399402],\n",
       "       [0.66137483],\n",
       "       [0.69286314],\n",
       "       [0.64131582],\n",
       "       [0.77115155],\n",
       "       [0.68423971],\n",
       "       [0.66412366]])"
      ]
     },
     "execution_count": 46,
     "metadata": {},
     "output_type": "execute_result"
    }
   ],
   "source": [
    "X_scaler = MinMaxScaler().fit(X)\n",
    "Y_scaler = MinMaxScaler().fit(Y)\n",
    "X_scaled = X_scaler.transform(X)\n",
    "Y_scaled = Y_scaler.transform(Y)\n",
    "Y_scaled"
   ]
  },
  {
   "cell_type": "code",
   "execution_count": 47,
   "metadata": {},
   "outputs": [],
   "source": [
    "X = X_scaled\n",
    "Y = Y_scaled"
   ]
  },
  {
   "cell_type": "code",
   "execution_count": 48,
   "metadata": {},
   "outputs": [],
   "source": [
    "Y = np.array(Y)\n",
    "X = np.array(X)"
   ]
  },
  {
   "cell_type": "code",
   "execution_count": 49,
   "metadata": {},
   "outputs": [
    {
     "name": "stdout",
     "output_type": "stream",
     "text": [
      "(40, 1)\n",
      "(40,)\n"
     ]
    }
   ],
   "source": [
    "from sklearn.model_selection import train_test_split\n",
    "\n",
    "X_train, X_test, y_train, y_test = train_test_split(X, Y, test_size=0.2, random_state=47) # 80% training and 20% test\n",
    "\n",
    "print(y_train.shape)\n",
    "y_train = y_train.reshape((len(y_train),))\n",
    "print(y_train.shape)\n",
    "y_test = y_test.reshape((len(y_test),))"
   ]
  },
  {
   "cell_type": "code",
   "execution_count": 50,
   "metadata": {},
   "outputs": [
    {
     "data": {
      "text/plain": [
       "(10, 1)"
      ]
     },
     "execution_count": 50,
     "metadata": {},
     "output_type": "execute_result"
    }
   ],
   "source": [
    "from sklearn.ensemble import GradientBoostingRegressor\n",
    "from sklearn.datasets import make_regression\n",
    "\n",
    "# X, y = make_regression(n_features=22)\n",
    "regr = GradientBoostingRegressor(learning_rate=0.1, n_estimators=100, subsample=1.0, \n",
    "                                 criterion='friedman_mse', min_samples_split=2, min_samples_leaf=1, min_weight_fraction_leaf=0.0, \n",
    "                                 max_depth=3, min_impurity_decrease=0.0)\n",
    "regr.fit(X_train, y_train)\n",
    "# regr.predict()\n",
    "y_pred = regr.predict(X_test)\n",
    "y_pred.shape\n",
    "y_pred = y_pred.reshape(-1,1)\n",
    "y_pred.shape\n",
    "\n",
    "y_test = y_test.reshape(-1,1)\n",
    "y_test.shape"
   ]
  },
  {
   "cell_type": "code",
   "execution_count": 51,
   "metadata": {},
   "outputs": [
    {
     "data": {
      "text/plain": [
       "array([[0.71853136],\n",
       "       [0.67545917],\n",
       "       [0.51191507],\n",
       "       [0.683055  ],\n",
       "       [0.52812721],\n",
       "       [0.7585663 ],\n",
       "       [0.78208609],\n",
       "       [0.64223958],\n",
       "       [0.30235128],\n",
       "       [0.75990452]])"
      ]
     },
     "execution_count": 51,
     "metadata": {},
     "output_type": "execute_result"
    }
   ],
   "source": [
    "y_pred"
   ]
  },
  {
   "cell_type": "code",
   "execution_count": 52,
   "metadata": {},
   "outputs": [
    {
     "data": {
      "text/plain": [
       "-0.22320974542789185"
      ]
     },
     "execution_count": 52,
     "metadata": {},
     "output_type": "execute_result"
    }
   ],
   "source": [
    "ss = regr.score(X_test, y_test, sample_weight=None)\n",
    "ss"
   ]
  },
  {
   "cell_type": "markdown",
   "metadata": {},
   "source": [
    "## People Indicators"
   ]
  },
  {
   "cell_type": "code",
   "execution_count": 111,
   "metadata": {},
   "outputs": [
    {
     "data": {
      "text/plain": [
       "array([[10.   ],\n",
       "       [ 8.   ],\n",
       "       [ 5.   ],\n",
       "       [ 6.   ],\n",
       "       [ 5.   ],\n",
       "       [ 7.   ],\n",
       "       [11.   ],\n",
       "       [10.   ],\n",
       "       [11.   ],\n",
       "       [ 6.   ],\n",
       "       [ 8.   ],\n",
       "       [11.   ],\n",
       "       [12.   ],\n",
       "       [ 7.   ],\n",
       "       [ 5.   ],\n",
       "       [ 7.   ],\n",
       "       [ 7.   ],\n",
       "       [ 9.   ],\n",
       "       [ 6.   ],\n",
       "       [10.   ],\n",
       "       [11.   ],\n",
       "       [ 6.   ],\n",
       "       [ 5.   ],\n",
       "       [11.   ],\n",
       "       [ 9.   ],\n",
       "       [10.   ],\n",
       "       [ 8.   ],\n",
       "       [ 8.   ],\n",
       "       [ 6.   ],\n",
       "       [ 7.   ],\n",
       "       [ 7.55 ],\n",
       "       [ 6.895],\n",
       "       [ 8.46 ],\n",
       "       [10.03 ],\n",
       "       [ 9.87 ],\n",
       "       [ 8.66 ],\n",
       "       [12.8  ],\n",
       "       [ 8.49 ],\n",
       "       [10.6  ],\n",
       "       [ 9.33 ],\n",
       "       [ 7.293],\n",
       "       [ 6.914],\n",
       "       [ 7.605],\n",
       "       [12.05 ],\n",
       "       [ 7.812],\n",
       "       [ 9.375],\n",
       "       [ 8.805],\n",
       "       [ 5.54 ],\n",
       "       [13.02 ],\n",
       "       [ 9.61 ]], dtype=float16)"
      ]
     },
     "execution_count": 111,
     "metadata": {},
     "output_type": "execute_result"
    }
   ],
   "source": [
    "# Prediction for \"TR\":\n",
    "\n",
    "Y = df.iloc[:,[37]]\n",
    "X = df.iloc[:,26:35]\n",
    "Y = np.array(Y).astype(\"float16\")\n",
    "X = np.array(X).astype(\"float16\")\n",
    "Y"
   ]
  },
  {
   "cell_type": "code",
   "execution_count": 112,
   "metadata": {},
   "outputs": [],
   "source": [
    "X_scaler = MinMaxScaler().fit(X)\n",
    "Y_scaler = MinMaxScaler().fit(Y)\n",
    "X_scaled = X_scaler.transform(X)\n",
    "Y_scaled = Y_scaler.transform(Y)\n",
    "Y_scaled\n",
    "\n",
    "X = X_scaled\n",
    "Y = Y_scaled"
   ]
  },
  {
   "cell_type": "code",
   "execution_count": 113,
   "metadata": {},
   "outputs": [
    {
     "name": "stdout",
     "output_type": "stream",
     "text": [
      "(40, 1)\n",
      "(40,)\n"
     ]
    }
   ],
   "source": [
    "from sklearn.model_selection import train_test_split\n",
    "\n",
    "X_train, X_test, y_train, y_test = train_test_split(X, Y, test_size=0.2, random_state=47) # 80% training and 20% test\n",
    "\n",
    "print(y_train.shape)\n",
    "y_train = y_train.reshape((len(y_train),))\n",
    "print(y_train.shape)\n",
    "y_test = y_test.reshape((len(y_test),))"
   ]
  },
  {
   "cell_type": "code",
   "execution_count": 114,
   "metadata": {},
   "outputs": [
    {
     "data": {
      "text/plain": [
       "(10, 1)"
      ]
     },
     "execution_count": 114,
     "metadata": {},
     "output_type": "execute_result"
    }
   ],
   "source": [
    "from sklearn.ensemble import RandomForestRegressor\n",
    "from sklearn.datasets import make_regression\n",
    "\n",
    "# X, y = make_regression(n_features=9)\n",
    "regr = GradientBoostingRegressor(learning_rate=0.1, n_estimators=400, subsample=1.0, \n",
    "                                 criterion='friedman_mse', min_samples_split=2, min_samples_leaf=5, min_weight_fraction_leaf=0.0, \n",
    "                                 max_depth=8, min_impurity_decrease=0.0)\n",
    "regr.fit(X_train, y_train)\n",
    "# regr.predict()\n",
    "y_pred = regr.predict(X_test)\n",
    "y_pred.shape\n",
    "y_pred = y_pred.reshape(-1,1)\n",
    "y_pred.shape\n",
    "\n",
    "y_test = y_test.reshape(-1,1)\n",
    "y_test.shape"
   ]
  },
  {
   "cell_type": "code",
   "execution_count": 115,
   "metadata": {},
   "outputs": [
    {
     "data": {
      "text/plain": [
       "array([[0.40428201],\n",
       "       [0.19787199],\n",
       "       [0.17882856],\n",
       "       [0.68740547],\n",
       "       [0.26495144],\n",
       "       [0.70646047],\n",
       "       [0.30017663],\n",
       "       [0.39266097],\n",
       "       [0.44846282],\n",
       "       [0.43095338]])"
      ]
     },
     "execution_count": 115,
     "metadata": {},
     "output_type": "execute_result"
    }
   ],
   "source": [
    "y_pred"
   ]
  },
  {
   "cell_type": "code",
   "execution_count": 116,
   "metadata": {},
   "outputs": [
    {
     "data": {
      "text/plain": [
       "-0.9557252302724032"
      ]
     },
     "execution_count": 116,
     "metadata": {},
     "output_type": "execute_result"
    }
   ],
   "source": [
    "ss = regr.score(X_test, y_test, sample_weight=None)\n",
    "ss"
   ]
  },
  {
   "cell_type": "code",
   "execution_count": 117,
   "metadata": {},
   "outputs": [
    {
     "data": {
      "text/plain": [
       "-0.9557252302724033"
      ]
     },
     "execution_count": 117,
     "metadata": {},
     "output_type": "execute_result"
    }
   ],
   "source": [
    "from sklearn.metrics import r2_score\n",
    "r2_score(y_test, y_pred)"
   ]
  },
  {
   "cell_type": "code",
   "execution_count": null,
   "metadata": {},
   "outputs": [],
   "source": []
  }
 ],
 "metadata": {
  "kernelspec": {
   "display_name": "ven610",
   "language": "python",
   "name": "python3"
  },
  "language_info": {
   "codemirror_mode": {
    "name": "ipython",
    "version": 3
   },
   "file_extension": ".py",
   "mimetype": "text/x-python",
   "name": "python",
   "nbconvert_exporter": "python",
   "pygments_lexer": "ipython3",
   "version": "3.7.7"
  },
  "orig_nbformat": 4
 },
 "nbformat": 4,
 "nbformat_minor": 2
}
