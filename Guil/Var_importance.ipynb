{
 "cells": [
  {
   "cell_type": "code",
   "execution_count": 23,
   "metadata": {},
   "outputs": [],
   "source": [
    "import numpy as np\n",
    "import pandas as pd\n",
    "import matplotlib.pyplot as plt\n",
    "import scipy.stats\n",
    "from scipy.stats import norm\n",
    "from scipy.stats import bootstrap"
   ]
  },
  {
   "cell_type": "code",
   "execution_count": 24,
   "metadata": {},
   "outputs": [],
   "source": [
    "df = pd.read_excel(\"Data_Predictive_Models.xlsx\", sheet_name = \"Data_Predictive_Models\")\n",
    "                #    \"Compiled_Data (2)\")\n",
    "# df\n",
    "\n",
    "# df = df.drop([\"Dates\"], axis = 1)\n",
    "heads = df.columns.to_list()\n",
    "# heads"
   ]
  },
  {
   "cell_type": "code",
   "execution_count": 25,
   "metadata": {},
   "outputs": [],
   "source": [
    "df = df.fillna(method=\"bfill\")"
   ]
  },
  {
   "cell_type": "code",
   "execution_count": 26,
   "metadata": {},
   "outputs": [
    {
     "data": {
      "text/plain": [
       "array([[ 1],\n",
       "       [ 2],\n",
       "       [ 3],\n",
       "       [ 4],\n",
       "       [ 5],\n",
       "       [ 6],\n",
       "       [ 7],\n",
       "       [ 8],\n",
       "       [ 9],\n",
       "       [10],\n",
       "       [11],\n",
       "       [12],\n",
       "       [ 1],\n",
       "       [ 2],\n",
       "       [ 3],\n",
       "       [ 4],\n",
       "       [ 5],\n",
       "       [ 6],\n",
       "       [ 7],\n",
       "       [ 8],\n",
       "       [ 9],\n",
       "       [10],\n",
       "       [11],\n",
       "       [12],\n",
       "       [ 1],\n",
       "       [ 2],\n",
       "       [ 3],\n",
       "       [ 4],\n",
       "       [ 5],\n",
       "       [ 6],\n",
       "       [ 7],\n",
       "       [ 8],\n",
       "       [ 9],\n",
       "       [10],\n",
       "       [11],\n",
       "       [12],\n",
       "       [ 1],\n",
       "       [ 2],\n",
       "       [ 3],\n",
       "       [ 4],\n",
       "       [ 5],\n",
       "       [ 6],\n",
       "       [ 7],\n",
       "       [ 8],\n",
       "       [ 9],\n",
       "       [10],\n",
       "       [11],\n",
       "       [12],\n",
       "       [ 1],\n",
       "       [ 2]], dtype=int64)"
      ]
     },
     "execution_count": 26,
     "metadata": {},
     "output_type": "execute_result"
    }
   ],
   "source": [
    "X1 = df.iloc[:,[1]]\n",
    "X1 = np.array(X1)\n",
    "X1"
   ]
  },
  {
   "cell_type": "code",
   "execution_count": 27,
   "metadata": {},
   "outputs": [
    {
     "data": {
      "text/plain": [
       "OneHotEncoder(categories='auto', drop=None, dtype=<class 'numpy.float64'>,\n",
       "              handle_unknown='error', sparse=True)"
      ]
     },
     "execution_count": 27,
     "metadata": {},
     "output_type": "execute_result"
    }
   ],
   "source": [
    "from sklearn.preprocessing import OneHotEncoder\n",
    "enc = OneHotEncoder(categories='auto')\n",
    "enc.fit(X1)"
   ]
  },
  {
   "cell_type": "code",
   "execution_count": 28,
   "metadata": {},
   "outputs": [
    {
     "data": {
      "text/plain": [
       "(12, 50)"
      ]
     },
     "execution_count": 28,
     "metadata": {},
     "output_type": "execute_result"
    }
   ],
   "source": [
    "X_enc = enc.transform(X1).toarray()\n",
    "X_tr = X_enc.transpose()\n",
    "X_tr.shape\n"
   ]
  },
  {
   "cell_type": "code",
   "execution_count": 29,
   "metadata": {},
   "outputs": [],
   "source": [
    "enc_dict = {}\n",
    "for i in range(12):\n",
    "    enc_dict[i] = X_tr[i]\n",
    "\n",
    "for i in range(12):\n",
    "    df = pd.concat([df, pd.DataFrame(enc_dict[i], columns=[i])], axis=1)\n"
   ]
  },
  {
   "cell_type": "code",
   "execution_count": 31,
   "metadata": {},
   "outputs": [],
   "source": [
    "heads_new = [0,1,2,3,4,5,6,7,8,9,10,11]\n",
    "for i in heads:\n",
    "    heads_new.append(i)\n",
    "\n",
    "heads_new\n",
    "\n",
    "df = df[heads_new]\n",
    "df = df.drop([\"Month\"], axis = 1)\n",
    "df = df.drop([\"DATE\"], axis = 1)"
   ]
  },
  {
   "cell_type": "code",
   "execution_count": 32,
   "metadata": {},
   "outputs": [],
   "source": [
    "# df.to_excel(\"encoded.xlsx\")"
   ]
  },
  {
   "attachments": {},
   "cell_type": "markdown",
   "metadata": {},
   "source": [
    "## Process indicators (separate responses):"
   ]
  },
  {
   "cell_type": "code",
   "execution_count": 40,
   "metadata": {},
   "outputs": [],
   "source": [
    "performs = {}\n",
    "for i in heads[2:25]:\n",
    "    Y = df.iloc[:,[35]]\n",
    "    X = df.iloc[:,0:35]\n",
    "    X.drop([i], axis=1)\n",
    "    Y = np.array(Y)\n",
    "    X = np.array(X)\n",
    "    from sklearn.model_selection import train_test_split\n",
    "\n",
    "    X_train, X_test, y_train, y_test = train_test_split(X, Y, test_size=0.2, random_state=47) # 80% training and 20% test\n",
    "\n",
    "    # print(y_train.shape)\n",
    "    y_train = y_train.reshape((len(y_train),))\n",
    "    # print(y_train.shape)\n",
    "    y_test = y_test.reshape((len(y_test),))\n",
    "    from sklearn.ensemble import RandomForestRegressor\n",
    "\n",
    "    regr = RandomForestRegressor(max_depth=20, n_estimators=800)\n",
    "    regr.fit(X_train, y_train)\n",
    "    # regr.predict()\n",
    "    y_pred = regr.predict(X_test)\n",
    "    # y_pred.shape\n",
    "    y_pred = y_pred.reshape(-1,1)\n",
    "    # y_pred.shape\n",
    "\n",
    "    y_test = y_test.reshape(-1,1)\n",
    "    # y_test.shape\n",
    "\n",
    "    from sklearn.metrics import r2_score\n",
    "    # performs.append(r2_score(y_test, y_pred))\n",
    "    performs[i] = r2_score(y_test, y_pred)"
   ]
  },
  {
   "cell_type": "code",
   "execution_count": 41,
   "metadata": {},
   "outputs": [
    {
     "data": {
      "text/plain": [
       "{'BRH': 0.38984228679687893,\n",
       " 'MO': 0.4047385950142378,\n",
       " 'RPO': 0.40307445267773034,\n",
       " 'RCO': 0.39022689414686684,\n",
       " 'WIP': 0.38763820663685633,\n",
       " 'WS': 0.4055796024669759,\n",
       " 'WRA': 0.41733874180486585,\n",
       " 'BOTH': 0.3944904754211499,\n",
       " 'MPBRH': 0.4002987043198092,\n",
       " 'MPBOTH': 0.39555326363640964,\n",
       " 'MC': 0.4072533139666783,\n",
       " 'RC': 0.39242926285325896,\n",
       " 'MPR': 0.40151753449694394,\n",
       " 'PRO': 0.40314126309397524,\n",
       " 'OTC': 0.4073152689177423,\n",
       " 'OTCR': 0.4107196956312017,\n",
       " 'OTCNS': 0.3858159265577782,\n",
       " 'WIPN': 0.3985542585365779,\n",
       " 'WIPC': 0.3935891760391632,\n",
       " 'WIPCFP': 0.40397967569068316,\n",
       " 'LC': 0.39960623111773075,\n",
       " 'WSC': 0.38076373254608853,\n",
       " 'WRAC': 0.41820819863043035}"
      ]
     },
     "execution_count": 41,
     "metadata": {},
     "output_type": "execute_result"
    }
   ],
   "source": [
    "performs"
   ]
  },
  {
   "cell_type": "code",
   "execution_count": 44,
   "metadata": {},
   "outputs": [
    {
     "data": {
      "text/plain": [
       "0.4057848834363287"
      ]
     },
     "execution_count": 44,
     "metadata": {},
     "output_type": "execute_result"
    }
   ],
   "source": [
    "Y = df.iloc[:,[35]]\n",
    "X = df.iloc[:,0:35]\n",
    "\n",
    "Y = np.array(Y)\n",
    "X = np.array(X)\n",
    "from sklearn.model_selection import train_test_split\n",
    "\n",
    "X_train, X_test, y_train, y_test = train_test_split(X, Y, test_size=0.2, random_state=47) # 80% training and 20% test\n",
    "\n",
    "# print(y_train.shape)\n",
    "y_train = y_train.reshape((len(y_train),))\n",
    "# print(y_train.shape)\n",
    "y_test = y_test.reshape((len(y_test),))\n",
    "from sklearn.ensemble import RandomForestRegressor\n",
    "\n",
    "regr = RandomForestRegressor(max_depth=20, n_estimators=800)\n",
    "regr.fit(X_train, y_train)\n",
    "# regr.predict()\n",
    "y_pred = regr.predict(X_test)\n",
    "# y_pred.shape\n",
    "y_pred = y_pred.reshape(-1,1)\n",
    "# y_pred.shape\n",
    "\n",
    "y_test = y_test.reshape(-1,1)\n",
    "# y_test.shape\n",
    "\n",
    "from sklearn.metrics import r2_score\n",
    "\n",
    "r2_score(y_test, y_pred)"
   ]
  },
  {
   "cell_type": "code",
   "execution_count": null,
   "metadata": {},
   "outputs": [],
   "source": []
  },
  {
   "attachments": {},
   "cell_type": "markdown",
   "metadata": {},
   "source": [
    "## People Indicators"
   ]
  },
  {
   "cell_type": "code",
   "execution_count": 45,
   "metadata": {},
   "outputs": [],
   "source": [
    "# Prediction for \"TR\":\n",
    "# df = df.drop([\"\",\"\"], axis = 1)\n",
    "\n",
    "\n",
    "Y = df.iloc[:,[48]]\n",
    "X = df.iloc[:,0:46]\n",
    "Y = np.array(Y).astype(\"float16\")\n",
    "X = np.array(X)"
   ]
  },
  {
   "cell_type": "code",
   "execution_count": 49,
   "metadata": {},
   "outputs": [
    {
     "data": {
      "text/plain": [
       "39"
      ]
     },
     "execution_count": 49,
     "metadata": {},
     "output_type": "execute_result"
    }
   ],
   "source": [
    "len(heads)"
   ]
  },
  {
   "cell_type": "code",
   "execution_count": 84,
   "metadata": {},
   "outputs": [],
   "source": [
    "performs = {}\n",
    "for i in heads[27:36]:\n",
    "    Y = df.iloc[:,[48]]\n",
    "    X = df.iloc[:,0:46]\n",
    "    X.drop([i], axis=1)\n",
    "    Y = np.array(Y).astype(\"float16\")\n",
    "    Y = np.flip(Y, 0)\n",
    "    X = np.array(X)\n",
    "\n",
    "    from sklearn.model_selection import train_test_split\n",
    "\n",
    "    X_train, X_test, y_train, y_test = train_test_split(X, Y, test_size=0.2, random_state=47) # 80% training and 20% test\n",
    "\n",
    "    # print(y_train.shape)\n",
    "    y_train = y_train.reshape((len(y_train),))\n",
    "    # print(y_train.shape)\n",
    "    y_test = y_test.reshape((len(y_test),))\n",
    "    from sklearn.ensemble import RandomForestRegressor\n",
    "\n",
    "    regr = RandomForestRegressor(max_depth=20, n_estimators=800)\n",
    "    regr.fit(X_train, y_train)\n",
    "    # regr.predict()\n",
    "    y_pred = regr.predict(X_test)\n",
    "    # y_pred.shape\n",
    "    y_pred = y_pred.reshape(-1,1)\n",
    "    # y_pred.shape\n",
    "\n",
    "    y_test = y_test.reshape(-1,1)\n",
    "    # y_test.shape\n",
    "\n",
    "    from sklearn.metrics import r2_score\n",
    "    # performs.append(r2_score(y_test, y_pred))\n",
    "    performs[i] = r2_score(y_test, y_pred)"
   ]
  },
  {
   "cell_type": "code",
   "execution_count": 85,
   "metadata": {},
   "outputs": [
    {
     "data": {
      "text/plain": [
       "{'MTS': 0.13133044576895891,\n",
       " 'RPTS': 0.12252138959846981,\n",
       " 'RCTS': 0.121704661807715,\n",
       " 'RTTS': 0.15624161299228423,\n",
       " 'AV': 0.10791061837975946,\n",
       " 'OTH': 0.16148040737165403,\n",
       " 'NHR': 0.10286971124515532,\n",
       " 'MTV': 0.14444136204301383,\n",
       " 'ENG': 0.12507233297603215}"
      ]
     },
     "execution_count": 85,
     "metadata": {},
     "output_type": "execute_result"
    }
   ],
   "source": [
    "performs"
   ]
  },
  {
   "cell_type": "code",
   "execution_count": 86,
   "metadata": {},
   "outputs": [
    {
     "data": {
      "text/plain": [
       "0.23535781699716007"
      ]
     },
     "execution_count": 86,
     "metadata": {},
     "output_type": "execute_result"
    }
   ],
   "source": [
    "Y = df.iloc[:,[48]]\n",
    "X = df.iloc[:,36:46]\n",
    "\n",
    "Y = np.array(Y)\n",
    "X = np.array(X)\n",
    "\n",
    "Y= np.flip(Y, 0)\n",
    "from sklearn.model_selection import train_test_split\n",
    "\n",
    "X_train, X_test, y_train, y_test = train_test_split(X, Y, test_size=0.2, random_state=47) # 80% training and 20% test\n",
    "\n",
    "# print(y_train.shape)\n",
    "y_train = y_train.reshape((len(y_train),))\n",
    "# print(y_train.shape)\n",
    "y_test = y_test.reshape((len(y_test),))\n",
    "from sklearn.ensemble import RandomForestRegressor\n",
    "\n",
    "regr = RandomForestRegressor(max_depth=20, n_estimators=800)\n",
    "regr.fit(X_train, y_train)\n",
    "# regr.predict()\n",
    "y_pred = regr.predict(X_test)\n",
    "# y_pred.shape\n",
    "y_pred = y_pred.reshape(-1,1)\n",
    "# y_pred.shape\n",
    "\n",
    "y_test = y_test.reshape(-1,1)\n",
    "# y_test.shape\n",
    "\n",
    "from sklearn.metrics import r2_score\n",
    "\n",
    "r2_score(y_test, y_pred)"
   ]
  },
  {
   "cell_type": "code",
   "execution_count": null,
   "metadata": {},
   "outputs": [],
   "source": []
  }
 ],
 "metadata": {
  "kernelspec": {
   "display_name": "ven610",
   "language": "python",
   "name": "python3"
  },
  "language_info": {
   "codemirror_mode": {
    "name": "ipython",
    "version": 3
   },
   "file_extension": ".py",
   "mimetype": "text/x-python",
   "name": "python",
   "nbconvert_exporter": "python",
   "pygments_lexer": "ipython3",
   "version": "3.7.7"
  },
  "orig_nbformat": 4,
  "vscode": {
   "interpreter": {
    "hash": "b71b3a05d14e972ac757b1afd52d6937e631e52b99a8b0bb96ec9afb5c1aecfa"
   }
  }
 },
 "nbformat": 4,
 "nbformat_minor": 2
}
