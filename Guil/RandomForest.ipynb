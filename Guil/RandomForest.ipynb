{
 "cells": [
  {
   "cell_type": "code",
   "execution_count": 1,
   "metadata": {},
   "outputs": [],
   "source": [
    "import numpy as np\n",
    "import pandas as pd\n",
    "import matplotlib.pyplot as plt\n",
    "import scipy.stats\n",
    "from scipy.stats import norm\n",
    "from scipy.stats import bootstrap"
   ]
  },
  {
   "cell_type": "code",
   "execution_count": 2,
   "metadata": {},
   "outputs": [],
   "source": [
    "df = pd.read_excel(\"Data_Predictive_Models.xlsx\", sheet_name = \"Data_Predictive_Models\")\n",
    "# df\n",
    "\n",
    "# df = df.drop([\"Dates\"], axis = 1)\n",
    "heads = df.columns.to_list()\n",
    "# heads"
   ]
  },
  {
   "cell_type": "code",
   "execution_count": 3,
   "metadata": {},
   "outputs": [],
   "source": [
    "df = df.fillna(method=\"backfill\")"
   ]
  },
  {
   "cell_type": "code",
   "execution_count": 4,
   "metadata": {},
   "outputs": [],
   "source": [
    "# df.head(100)"
   ]
  },
  {
   "cell_type": "code",
   "execution_count": 5,
   "metadata": {},
   "outputs": [],
   "source": [
    "\n",
    "# df.to_excel(\"Output_backward_replace.xlsx\")"
   ]
  },
  {
   "attachments": {},
   "cell_type": "markdown",
   "metadata": {},
   "source": [
    "## Process indicators (separate responses):"
   ]
  },
  {
   "cell_type": "code",
   "execution_count": 15,
   "metadata": {},
   "outputs": [],
   "source": [
    "# Prediction for \"TR\":\n",
    "\n",
    "Y = df.iloc[:,[25]]\n",
    "X = df.iloc[:,1:24]\n",
    "Y = np.array(Y).astype(\"int\")\n",
    "X = np.array(X)"
   ]
  },
  {
   "cell_type": "code",
   "execution_count": 16,
   "metadata": {},
   "outputs": [
    {
     "data": {
      "text/plain": [
       "array([[16076.83      ,    69.        ,   216.        , ...,\n",
       "         4037.87403552,  2054.244     ,  1395.0408    ],\n",
       "       [16345.9       ,   181.        ,   242.        , ...,\n",
       "         5037.07291666,  2514.0025    ,  3455.01      ],\n",
       "       [17658.42      ,   116.        ,   378.        , ...,\n",
       "         5419.65978402,   771.6345    ,  7817.8077    ],\n",
       "       ...,\n",
       "       [18302.5333    ,    62.        ,   142.        , ...,\n",
       "         2245.659327  ,     0.        ,  1630.23      ],\n",
       "       [12374.6166    ,   105.        ,   335.        , ...,\n",
       "         2541.        ,     0.        ,  4587.06      ],\n",
       "       [16883.7167    ,   103.        ,   149.        , ...,\n",
       "         3590.        ,     0.        ,  2563.2       ]])"
      ]
     },
     "execution_count": 16,
     "metadata": {},
     "output_type": "execute_result"
    }
   ],
   "source": [
    "X"
   ]
  },
  {
   "cell_type": "code",
   "execution_count": 17,
   "metadata": {},
   "outputs": [
    {
     "name": "stdout",
     "output_type": "stream",
     "text": [
      "(40, 1)\n",
      "(40,)\n"
     ]
    }
   ],
   "source": [
    "from sklearn.model_selection import train_test_split\n",
    "\n",
    "X_train, X_test, y_train, y_test = train_test_split(X, Y, test_size=0.2, random_state=47) # 80% training and 20% test\n",
    "\n",
    "print(y_train.shape)\n",
    "y_train = y_train.reshape((len(y_train),))\n",
    "print(y_train.shape)\n",
    "y_test = y_test.reshape((len(y_test),))"
   ]
  },
  {
   "cell_type": "code",
   "execution_count": 18,
   "metadata": {},
   "outputs": [
    {
     "data": {
      "text/plain": [
       "(10, 1)"
      ]
     },
     "execution_count": 18,
     "metadata": {},
     "output_type": "execute_result"
    }
   ],
   "source": [
    "from sklearn.ensemble import RandomForestRegressor\n",
    "from sklearn.datasets import make_regression\n",
    "\n",
    "# X, y = make_regression(n_features=9)\n",
    "regr = RandomForestRegressor(max_depth=25, random_state=0,n_estimators=800)\n",
    "regr.fit(X_train, y_train)\n",
    "# regr.predict()\n",
    "y_pred = regr.predict(X_test)\n",
    "y_pred.shape\n",
    "y_pred = y_pred.reshape(-1,1)\n",
    "y_pred.shape\n",
    "\n",
    "y_test = y_test.reshape(-1,1)\n",
    "y_test.shape"
   ]
  },
  {
   "cell_type": "code",
   "execution_count": 19,
   "metadata": {},
   "outputs": [
    {
     "data": {
      "text/plain": [
       "array([[1170370.17375],\n",
       "       [1076729.74375],\n",
       "       [ 991946.98625],\n",
       "       [1024356.79125],\n",
       "       [1047321.405  ],\n",
       "       [1191783.2525 ],\n",
       "       [1260546.085  ],\n",
       "       [ 982451.14125],\n",
       "       [ 743472.1975 ],\n",
       "       [1134001.35625]])"
      ]
     },
     "execution_count": 19,
     "metadata": {},
     "output_type": "execute_result"
    }
   ],
   "source": [
    "y_pred"
   ]
  },
  {
   "cell_type": "code",
   "execution_count": 20,
   "metadata": {},
   "outputs": [
    {
     "data": {
      "text/plain": [
       "0.19912595069176953"
      ]
     },
     "execution_count": 20,
     "metadata": {},
     "output_type": "execute_result"
    }
   ],
   "source": [
    "ss = regr.score(X_test, y_test, sample_weight=None)\n",
    "ss"
   ]
  },
  {
   "cell_type": "code",
   "execution_count": 21,
   "metadata": {},
   "outputs": [
    {
     "data": {
      "text/plain": [
       "0.19912595069176953"
      ]
     },
     "execution_count": 21,
     "metadata": {},
     "output_type": "execute_result"
    }
   ],
   "source": [
    "from sklearn.metrics import r2_score\n",
    "r2_score(y_test, y_pred)"
   ]
  },
  {
   "cell_type": "code",
   "execution_count": null,
   "metadata": {},
   "outputs": [],
   "source": []
  },
  {
   "attachments": {},
   "cell_type": "markdown",
   "metadata": {},
   "source": [
    "## People Indicators"
   ]
  },
  {
   "cell_type": "code",
   "execution_count": 53,
   "metadata": {},
   "outputs": [],
   "source": [
    "# Prediction for \"TR\":\n",
    "\n",
    "Y = df.iloc[:,[37]]\n",
    "X = df.iloc[:,26:35]\n",
    "Y = np.array(Y)\n",
    "X = np.array(X)"
   ]
  },
  {
   "cell_type": "code",
   "execution_count": 55,
   "metadata": {},
   "outputs": [
    {
     "data": {
      "text/plain": [
       "array([[ 9.61174242],\n",
       "       [13.02083333],\n",
       "       [ 5.53977273],\n",
       "       [ 8.80681818],\n",
       "       [ 9.375     ],\n",
       "       [ 7.8125    ],\n",
       "       [12.04710145],\n",
       "       [ 7.60416667],\n",
       "       [ 6.91287879],\n",
       "       [ 7.29166667],\n",
       "       [ 9.32539683],\n",
       "       [10.59782609],\n",
       "       [ 8.48958333],\n",
       "       [12.79761905],\n",
       "       [ 8.65559327],\n",
       "       [ 9.86585479],\n",
       "       [10.03256989],\n",
       "       [ 8.45788913],\n",
       "       [ 6.89542365],\n",
       "       [ 7.54896571],\n",
       "       [ 7.        ],\n",
       "       [ 6.        ],\n",
       "       [ 8.        ],\n",
       "       [ 8.        ],\n",
       "       [10.        ],\n",
       "       [ 9.        ],\n",
       "       [11.        ],\n",
       "       [ 5.        ],\n",
       "       [ 6.        ],\n",
       "       [11.        ],\n",
       "       [10.        ],\n",
       "       [ 6.        ],\n",
       "       [ 9.        ],\n",
       "       [ 7.        ],\n",
       "       [ 7.        ],\n",
       "       [ 5.        ],\n",
       "       [ 7.        ],\n",
       "       [12.        ],\n",
       "       [11.        ],\n",
       "       [ 8.        ],\n",
       "       [ 6.        ],\n",
       "       [11.        ],\n",
       "       [10.        ],\n",
       "       [11.        ],\n",
       "       [ 7.        ],\n",
       "       [ 5.        ],\n",
       "       [ 6.        ],\n",
       "       [ 5.        ],\n",
       "       [ 8.        ],\n",
       "       [10.        ]])"
      ]
     },
     "execution_count": 55,
     "metadata": {},
     "output_type": "execute_result"
    }
   ],
   "source": [
    "Y = np.flip(Y, 0)\n",
    "Y"
   ]
  },
  {
   "cell_type": "code",
   "execution_count": 56,
   "metadata": {},
   "outputs": [
    {
     "name": "stdout",
     "output_type": "stream",
     "text": [
      "(40, 1)\n",
      "(40,)\n"
     ]
    }
   ],
   "source": [
    "from sklearn.model_selection import train_test_split\n",
    "\n",
    "X_train, X_test, y_train, y_test = train_test_split(X, Y, test_size=0.2, random_state=47) # 80% training and 20% test\n",
    "\n",
    "print(y_train.shape)\n",
    "y_train = y_train.reshape((len(y_train),))\n",
    "print(y_train.shape)\n",
    "y_test = y_test.reshape((len(y_test),))"
   ]
  },
  {
   "cell_type": "code",
   "execution_count": 57,
   "metadata": {},
   "outputs": [
    {
     "data": {
      "text/plain": [
       "(10, 1)"
      ]
     },
     "execution_count": 57,
     "metadata": {},
     "output_type": "execute_result"
    }
   ],
   "source": [
    "from sklearn.ensemble import RandomForestRegressor\n",
    "from sklearn.datasets import make_regression\n",
    "\n",
    "X, y = make_regression(n_features=9)\n",
    "regr = RandomForestRegressor(max_depth=14, random_state=0,n_estimators=400)\n",
    "regr.fit(X_train, y_train)\n",
    "# regr.predict()\n",
    "y_pred = regr.predict(X_test)\n",
    "y_pred.shape\n",
    "y_pred = y_pred.reshape(-1,1)\n",
    "y_pred.shape\n",
    "\n",
    "y_test = y_test.reshape(-1,1)\n",
    "y_test.shape"
   ]
  },
  {
   "cell_type": "code",
   "execution_count": 58,
   "metadata": {},
   "outputs": [
    {
     "data": {
      "text/plain": [
       "array([[7.53610595],\n",
       "       [9.71007053],\n",
       "       [8.8317384 ],\n",
       "       [9.51571606],\n",
       "       [7.06463827],\n",
       "       [8.72160368],\n",
       "       [7.35219868],\n",
       "       [7.31787164],\n",
       "       [7.25315087],\n",
       "       [9.46963645]])"
      ]
     },
     "execution_count": 58,
     "metadata": {},
     "output_type": "execute_result"
    }
   ],
   "source": [
    "y_pred"
   ]
  },
  {
   "cell_type": "code",
   "execution_count": 59,
   "metadata": {},
   "outputs": [
    {
     "data": {
      "text/plain": [
       "0.4896181686133717"
      ]
     },
     "execution_count": 59,
     "metadata": {},
     "output_type": "execute_result"
    }
   ],
   "source": [
    "ss = regr.score(X_test, y_test, sample_weight=None)\n",
    "ss"
   ]
  },
  {
   "cell_type": "code",
   "execution_count": null,
   "metadata": {},
   "outputs": [],
   "source": []
  }
 ],
 "metadata": {
  "kernelspec": {
   "display_name": "ven610",
   "language": "python",
   "name": "python3"
  },
  "language_info": {
   "codemirror_mode": {
    "name": "ipython",
    "version": 3
   },
   "file_extension": ".py",
   "mimetype": "text/x-python",
   "name": "python",
   "nbconvert_exporter": "python",
   "pygments_lexer": "ipython3",
   "version": "3.7.7"
  },
  "orig_nbformat": 4,
  "vscode": {
   "interpreter": {
    "hash": "b71b3a05d14e972ac757b1afd52d6937e631e52b99a8b0bb96ec9afb5c1aecfa"
   }
  }
 },
 "nbformat": 4,
 "nbformat_minor": 2
}
