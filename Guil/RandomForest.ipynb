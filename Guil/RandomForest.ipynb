{
 "cells": [
  {
   "cell_type": "code",
   "execution_count": 16,
   "metadata": {},
   "outputs": [],
   "source": [
    "import numpy as np\n",
    "import pandas as pd\n",
    "import matplotlib.pyplot as plt\n",
    "import scipy.stats\n",
    "from scipy.stats import norm\n",
    "from scipy.stats import bootstrap"
   ]
  },
  {
   "cell_type": "code",
   "execution_count": 17,
   "metadata": {},
   "outputs": [],
   "source": [
    "df = pd.read_excel(\"Data_Predictive_Models.xlsx\", sheet_name = \"Compiled_Data (2)\")\n",
    "# df\n",
    "\n",
    "# df = df.drop([\"Dates\"], axis = 1)\n",
    "heads = df.columns.to_list()\n",
    "# heads"
   ]
  },
  {
   "cell_type": "code",
   "execution_count": 18,
   "metadata": {},
   "outputs": [],
   "source": [
    "df = df.fillna(method=\"bfill\")"
   ]
  },
  {
   "cell_type": "code",
   "execution_count": 19,
   "metadata": {},
   "outputs": [],
   "source": [
    "# df.head(100)"
   ]
  },
  {
   "cell_type": "code",
   "execution_count": 20,
   "metadata": {},
   "outputs": [],
   "source": [
    "\n",
    "# df.to_excel(\"Output_backward_replace.xlsx\")"
   ]
  },
  {
   "cell_type": "code",
   "execution_count": 58,
   "metadata": {},
   "outputs": [],
   "source": [
    "X1 = df.iloc[:,1]\n",
    "X1 = np.array(X1)"
   ]
  },
  {
   "cell_type": "code",
   "execution_count": 59,
   "metadata": {},
   "outputs": [
    {
     "ename": "NotFittedError",
     "evalue": "This OneHotEncoder instance is not fitted yet. Call 'fit' with appropriate arguments before using this estimator.",
     "output_type": "error",
     "traceback": [
      "\u001b[1;31m---------------------------------------------------------------------------\u001b[0m",
      "\u001b[1;31mNotFittedError\u001b[0m                            Traceback (most recent call last)",
      "\u001b[1;32m~\\AppData\\Local\\Temp/ipykernel_17680/2858319577.py\u001b[0m in \u001b[0;36m<module>\u001b[1;34m\u001b[0m\n\u001b[0;32m      1\u001b[0m \u001b[1;32mfrom\u001b[0m \u001b[0msklearn\u001b[0m\u001b[1;33m.\u001b[0m\u001b[0mpreprocessing\u001b[0m \u001b[1;32mimport\u001b[0m \u001b[0mOneHotEncoder\u001b[0m\u001b[1;33m\u001b[0m\u001b[1;33m\u001b[0m\u001b[0m\n\u001b[0;32m      2\u001b[0m \u001b[0menc\u001b[0m \u001b[1;33m=\u001b[0m \u001b[0mOneHotEncoder\u001b[0m\u001b[1;33m(\u001b[0m\u001b[0mhandle_unknown\u001b[0m\u001b[1;33m=\u001b[0m\u001b[1;34m'ignore'\u001b[0m\u001b[1;33m)\u001b[0m\u001b[1;33m\u001b[0m\u001b[1;33m\u001b[0m\u001b[0m\n\u001b[1;32m----> 3\u001b[1;33m \u001b[0menc\u001b[0m\u001b[1;33m.\u001b[0m\u001b[0mtransform\u001b[0m\u001b[1;33m(\u001b[0m\u001b[0mX1\u001b[0m\u001b[1;33m)\u001b[0m\u001b[1;33m\u001b[0m\u001b[1;33m\u001b[0m\u001b[0m\n\u001b[0m",
      "\u001b[1;32mc:\\Users\\User\\PycharmProjects\\IE610\\ven610\\lib\\site-packages\\sklearn\\preprocessing\\_encoders.py\u001b[0m in \u001b[0;36mtransform\u001b[1;34m(self, X)\u001b[0m\n\u001b[0;32m    386\u001b[0m             \u001b[0mTransformed\u001b[0m \u001b[0minput\u001b[0m\u001b[1;33m.\u001b[0m\u001b[1;33m\u001b[0m\u001b[1;33m\u001b[0m\u001b[0m\n\u001b[0;32m    387\u001b[0m         \"\"\"\n\u001b[1;32m--> 388\u001b[1;33m         \u001b[0mcheck_is_fitted\u001b[0m\u001b[1;33m(\u001b[0m\u001b[0mself\u001b[0m\u001b[1;33m)\u001b[0m\u001b[1;33m\u001b[0m\u001b[1;33m\u001b[0m\u001b[0m\n\u001b[0m\u001b[0;32m    389\u001b[0m         \u001b[1;31m# validation of X happens in _check_X called by _transform\u001b[0m\u001b[1;33m\u001b[0m\u001b[1;33m\u001b[0m\u001b[1;33m\u001b[0m\u001b[0m\n\u001b[0;32m    390\u001b[0m         \u001b[0mX_int\u001b[0m\u001b[1;33m,\u001b[0m \u001b[0mX_mask\u001b[0m \u001b[1;33m=\u001b[0m \u001b[0mself\u001b[0m\u001b[1;33m.\u001b[0m\u001b[0m_transform\u001b[0m\u001b[1;33m(\u001b[0m\u001b[0mX\u001b[0m\u001b[1;33m,\u001b[0m \u001b[0mhandle_unknown\u001b[0m\u001b[1;33m=\u001b[0m\u001b[0mself\u001b[0m\u001b[1;33m.\u001b[0m\u001b[0mhandle_unknown\u001b[0m\u001b[1;33m)\u001b[0m\u001b[1;33m\u001b[0m\u001b[1;33m\u001b[0m\u001b[0m\n",
      "\u001b[1;32mc:\\Users\\User\\PycharmProjects\\IE610\\ven610\\lib\\site-packages\\sklearn\\utils\\validation.py\u001b[0m in \u001b[0;36mcheck_is_fitted\u001b[1;34m(estimator, attributes, msg, all_or_any)\u001b[0m\n\u001b[0;32m    965\u001b[0m \u001b[1;33m\u001b[0m\u001b[0m\n\u001b[0;32m    966\u001b[0m     \u001b[1;32mif\u001b[0m \u001b[1;32mnot\u001b[0m \u001b[0mattrs\u001b[0m\u001b[1;33m:\u001b[0m\u001b[1;33m\u001b[0m\u001b[1;33m\u001b[0m\u001b[0m\n\u001b[1;32m--> 967\u001b[1;33m         \u001b[1;32mraise\u001b[0m \u001b[0mNotFittedError\u001b[0m\u001b[1;33m(\u001b[0m\u001b[0mmsg\u001b[0m \u001b[1;33m%\u001b[0m \u001b[1;33m{\u001b[0m\u001b[1;34m'name'\u001b[0m\u001b[1;33m:\u001b[0m \u001b[0mtype\u001b[0m\u001b[1;33m(\u001b[0m\u001b[0mestimator\u001b[0m\u001b[1;33m)\u001b[0m\u001b[1;33m.\u001b[0m\u001b[0m__name__\u001b[0m\u001b[1;33m}\u001b[0m\u001b[1;33m)\u001b[0m\u001b[1;33m\u001b[0m\u001b[1;33m\u001b[0m\u001b[0m\n\u001b[0m\u001b[0;32m    968\u001b[0m \u001b[1;33m\u001b[0m\u001b[0m\n\u001b[0;32m    969\u001b[0m \u001b[1;33m\u001b[0m\u001b[0m\n",
      "\u001b[1;31mNotFittedError\u001b[0m: This OneHotEncoder instance is not fitted yet. Call 'fit' with appropriate arguments before using this estimator."
     ]
    }
   ],
   "source": [
    "from sklearn.preprocessing import OneHotEncoder\n",
    "enc = OneHotEncoder(handle_unknown='ignore')\n",
    "enc.fit(X1)"
   ]
  },
  {
   "cell_type": "code",
   "execution_count": null,
   "metadata": {},
   "outputs": [],
   "source": []
  },
  {
   "cell_type": "code",
   "execution_count": null,
   "metadata": {},
   "outputs": [],
   "source": []
  },
  {
   "cell_type": "code",
   "execution_count": null,
   "metadata": {},
   "outputs": [],
   "source": []
  },
  {
   "attachments": {},
   "cell_type": "markdown",
   "metadata": {},
   "source": [
    "## Process indicators (separate responses):"
   ]
  },
  {
   "cell_type": "code",
   "execution_count": 45,
   "metadata": {},
   "outputs": [],
   "source": [
    "# Prediction for \"TR\":\n",
    "\n",
    "Y = df.iloc[:,[25]]\n",
    "X = df.iloc[:,1:25]\n",
    "\n"
   ]
  },
  {
   "cell_type": "code",
   "execution_count": 46,
   "metadata": {},
   "outputs": [
    {
     "data": {
      "text/plain": [
       "array([[1071257.64923423],\n",
       "       [1141260.42653196],\n",
       "       [1549263.89191892],\n",
       "       [1400876.21255063],\n",
       "       [1328409.03422998],\n",
       "       [1545815.76855955],\n",
       "       [1196442.90257809],\n",
       "       [1060181.66661404],\n",
       "       [1072771.63760977],\n",
       "       [1179441.87343452],\n",
       "       [ 989598.58432519],\n",
       "       [ 992311.49329051],\n",
       "       [ 835703.18083115],\n",
       "       [1214996.66528135],\n",
       "       [1138479.81196716],\n",
       "       [ 400664.89005864],\n",
       "       [1063498.01204559],\n",
       "       [1262001.9901208 ],\n",
       "       [1284330.38313016],\n",
       "       [1505487.05498091],\n",
       "       [1353981.0495387 ],\n",
       "       [1477237.82395379],\n",
       "       [1132751.51047588],\n",
       "       [ 941588.2888534 ],\n",
       "       [1249500.16038369],\n",
       "       [1192354.45986051],\n",
       "       [1527448.43068254],\n",
       "       [1397490.44098772],\n",
       "       [1821182.2383284 ],\n",
       "       [1377637.30318929],\n",
       "       [1499811.0174636 ],\n",
       "       [1355621.40308024],\n",
       "       [1234190.91452668],\n",
       "       [1913573.74752544],\n",
       "       [1489595.75409276],\n",
       "       [1155759.67519524],\n",
       "       [1586400.40504161],\n",
       "       [1500478.74543013],\n",
       "       [1765177.09032539],\n",
       "       [2494097.7809863 ],\n",
       "       [1765268.07505315],\n",
       "       [1787546.50866859],\n",
       "       [2220315.15265166],\n",
       "       [1695214.35461385],\n",
       "       [1755096.7593224 ],\n",
       "       [2086557.58946683],\n",
       "       [1474379.74796222],\n",
       "       [1240035.71224469],\n",
       "       [1556102.0933429 ],\n",
       "       [1290517.64829313]])"
      ]
     },
     "execution_count": 46,
     "metadata": {},
     "output_type": "execute_result"
    }
   ],
   "source": [
    "Y = np.array(Y)\n",
    "X = np.array(X)\n"
   ]
  },
  {
   "cell_type": "code",
   "execution_count": 52,
   "metadata": {},
   "outputs": [
    {
     "data": {
      "text/plain": [
       "array([[1.00000000e+00, 1.60768300e+04, 8.60000000e+01, ...,\n",
       "        3.26690000e+03, 2.36120000e+03, 1.22372000e+03],\n",
       "       [2.00000000e+00, 1.63459000e+04, 8.60000000e+01, ...,\n",
       "        3.26690000e+03, 2.36120000e+03, 1.22372000e+03],\n",
       "       [3.00000000e+00, 1.76584200e+04, 8.60000000e+01, ...,\n",
       "        3.26690000e+03, 2.36120000e+03, 1.22372000e+03],\n",
       "       ...,\n",
       "       [1.20000000e+01, 1.83025333e+04, 6.20000000e+01, ...,\n",
       "        2.24565933e+03, 0.00000000e+00, 1.63023000e+03],\n",
       "       [1.00000000e+00, 1.23746166e+04, 1.05000000e+02, ...,\n",
       "        2.54100000e+03, 0.00000000e+00, 4.58706000e+03],\n",
       "       [2.00000000e+00, 1.68837167e+04, 1.03000000e+02, ...,\n",
       "        3.59000000e+03, 0.00000000e+00, 2.56320000e+03]])"
      ]
     },
     "execution_count": 52,
     "metadata": {},
     "output_type": "execute_result"
    }
   ],
   "source": [
    "X"
   ]
  },
  {
   "cell_type": "code",
   "execution_count": 47,
   "metadata": {},
   "outputs": [
    {
     "name": "stdout",
     "output_type": "stream",
     "text": [
      "(40, 1)\n",
      "(40,)\n"
     ]
    }
   ],
   "source": [
    "from sklearn.model_selection import train_test_split\n",
    "\n",
    "X_train, X_test, y_train, y_test = train_test_split(X, Y, test_size=0.2, random_state=47) # 80% training and 20% test\n",
    "\n",
    "print(y_train.shape)\n",
    "y_train = y_train.reshape((len(y_train),))\n",
    "print(y_train.shape)\n",
    "y_test = y_test.reshape((len(y_test),))"
   ]
  },
  {
   "cell_type": "code",
   "execution_count": 48,
   "metadata": {},
   "outputs": [
    {
     "data": {
      "text/plain": [
       "(10, 1)"
      ]
     },
     "execution_count": 48,
     "metadata": {},
     "output_type": "execute_result"
    }
   ],
   "source": [
    "from sklearn.ensemble import RandomForestRegressor\n",
    "\n",
    "regr = RandomForestRegressor(max_depth=14, n_estimators=400)\n",
    "regr.fit(X_train, y_train)\n",
    "# regr.predict()\n",
    "y_pred = regr.predict(X_test)\n",
    "y_pred.shape\n",
    "y_pred = y_pred.reshape(-1,1)\n",
    "y_pred.shape\n",
    "\n",
    "y_test = y_test.reshape(-1,1)\n",
    "y_test.shape"
   ]
  },
  {
   "cell_type": "code",
   "execution_count": 49,
   "metadata": {},
   "outputs": [
    {
     "data": {
      "text/plain": [
       "array([[1709807.97463458],\n",
       "       [1598827.71592023],\n",
       "       [1509053.05067037],\n",
       "       [1265812.37177099],\n",
       "       [1784708.80172375],\n",
       "       [1527491.33227856],\n",
       "       [1579332.42236333],\n",
       "       [1419925.79659772],\n",
       "       [1066654.43000305],\n",
       "       [1493723.84221888]])"
      ]
     },
     "execution_count": 49,
     "metadata": {},
     "output_type": "execute_result"
    }
   ],
   "source": [
    "y_pred"
   ]
  },
  {
   "cell_type": "code",
   "execution_count": 50,
   "metadata": {},
   "outputs": [
    {
     "data": {
      "text/plain": [
       "0.4999822005137744"
      ]
     },
     "execution_count": 50,
     "metadata": {},
     "output_type": "execute_result"
    }
   ],
   "source": [
    "ss = regr.score(X_test, y_test, sample_weight=None)\n",
    "ss"
   ]
  },
  {
   "cell_type": "code",
   "execution_count": 51,
   "metadata": {},
   "outputs": [
    {
     "data": {
      "text/plain": [
       "0.4999822005137744"
      ]
     },
     "execution_count": 51,
     "metadata": {},
     "output_type": "execute_result"
    }
   ],
   "source": [
    "from sklearn.metrics import r2_score\n",
    "r2_score(y_test, y_pred)"
   ]
  },
  {
   "cell_type": "code",
   "execution_count": null,
   "metadata": {},
   "outputs": [],
   "source": []
  },
  {
   "attachments": {},
   "cell_type": "markdown",
   "metadata": {},
   "source": [
    "## People Indicators"
   ]
  },
  {
   "cell_type": "code",
   "execution_count": null,
   "metadata": {},
   "outputs": [],
   "source": [
    "# Prediction for \"TR\":\n",
    "\n",
    "Y = df.iloc[:,[37]]\n",
    "X = df.iloc[:,26:35]\n",
    "Y = np.array(Y)\n",
    "X = np.array(X)"
   ]
  },
  {
   "cell_type": "code",
   "execution_count": null,
   "metadata": {},
   "outputs": [],
   "source": [
    "Y = np.flip(Y, 0)\n",
    "Y"
   ]
  },
  {
   "cell_type": "code",
   "execution_count": null,
   "metadata": {},
   "outputs": [],
   "source": [
    "from sklearn.model_selection import train_test_split\n",
    "\n",
    "X_train, X_test, y_train, y_test = train_test_split(X, Y, test_size=0.2, random_state=47) # 80% training and 20% test\n",
    "\n",
    "print(y_train.shape)\n",
    "y_train = y_train.reshape((len(y_train),))\n",
    "print(y_train.shape)\n",
    "y_test = y_test.reshape((len(y_test),))"
   ]
  },
  {
   "cell_type": "code",
   "execution_count": null,
   "metadata": {},
   "outputs": [],
   "source": [
    "from sklearn.ensemble import RandomForestRegressor\n",
    "\n",
    "regr = RandomForestRegressor(max_depth=14, random_state=0,n_estimators=400)\n",
    "regr.fit(X_train, y_train)\n",
    "# regr.predict()\n",
    "y_pred = regr.predict(X_test)\n",
    "y_pred.shape\n",
    "y_pred = y_pred.reshape(-1,1)\n",
    "y_pred.shape\n",
    "\n",
    "y_test = y_test.reshape(-1,1)\n",
    "y_test.shape"
   ]
  },
  {
   "cell_type": "code",
   "execution_count": null,
   "metadata": {},
   "outputs": [],
   "source": [
    "y_pred"
   ]
  },
  {
   "cell_type": "code",
   "execution_count": null,
   "metadata": {},
   "outputs": [],
   "source": [
    "ss = regr.score(X_test, y_test, sample_weight=None)\n",
    "ss"
   ]
  },
  {
   "cell_type": "code",
   "execution_count": null,
   "metadata": {},
   "outputs": [],
   "source": []
  }
 ],
 "metadata": {
  "kernelspec": {
   "display_name": "ven610",
   "language": "python",
   "name": "python3"
  },
  "language_info": {
   "codemirror_mode": {
    "name": "ipython",
    "version": 3
   },
   "file_extension": ".py",
   "mimetype": "text/x-python",
   "name": "python",
   "nbconvert_exporter": "python",
   "pygments_lexer": "ipython3",
   "version": "3.7.7"
  },
  "orig_nbformat": 4,
  "vscode": {
   "interpreter": {
    "hash": "b71b3a05d14e972ac757b1afd52d6937e631e52b99a8b0bb96ec9afb5c1aecfa"
   }
  }
 },
 "nbformat": 4,
 "nbformat_minor": 2
}
