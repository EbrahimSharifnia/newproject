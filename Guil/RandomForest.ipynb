{
 "cells": [
  {
   "cell_type": "code",
   "execution_count": 1,
   "metadata": {},
   "outputs": [],
   "source": [
    "# Bootstrapping_data\n",
    "\n",
    "import numpy as np\n",
    "import pandas as pd\n",
    "import matplotlib.pyplot as plt\n",
    "import scipy.stats\n",
    "from scipy.stats import norm\n",
    "from scipy.stats import bootstrap"
   ]
  },
  {
   "cell_type": "code",
   "execution_count": 2,
   "metadata": {},
   "outputs": [],
   "source": [
    "df = pd.read_excel(\"Data_Treatment - Great_Lakes.xlsx\", sheet_name = \"Compiled_Data\")\n",
    "# df\n",
    "\n",
    "# df = df.drop([\"Dates\"], axis = 1)\n",
    "heads = df.columns.to_list()\n",
    "# heads"
   ]
  },
  {
   "cell_type": "code",
   "execution_count": 3,
   "metadata": {},
   "outputs": [],
   "source": [
    "df = df.fillna(method=\"bfill\")"
   ]
  },
  {
   "cell_type": "code",
   "execution_count": 4,
   "metadata": {},
   "outputs": [],
   "source": [
    "# df.head(100)"
   ]
  },
  {
   "cell_type": "code",
   "execution_count": null,
   "metadata": {},
   "outputs": [],
   "source": [
    "\n",
    "# df.to_excel(\"Output_backward_replace.xlsx\")"
   ]
  },
  {
   "cell_type": "code",
   "execution_count": 5,
   "metadata": {},
   "outputs": [],
   "source": [
    "# data = pd.read_csv('data.csv')\n",
    "Y = df.iloc[:,[23,24]]\n",
    "X = df.iloc[:,1:23]\n",
    "Y = np.array(Y)\n",
    "X = np.array(X)"
   ]
  },
  {
   "cell_type": "code",
   "execution_count": 7,
   "metadata": {},
   "outputs": [],
   "source": [
    "from sklearn.model_selection import train_test_split\n",
    "\n",
    "X_train, X_test, y_train, y_test = train_test_split(X, Y, test_size=0.2, random_state=109) # 80% training and 20% test\n"
   ]
  },
  {
   "cell_type": "code",
   "execution_count": 9,
   "metadata": {},
   "outputs": [
    {
     "name": "stdout",
     "output_type": "stream",
     "text": [
      "(40, 2)\n"
     ]
    }
   ],
   "source": [
    "print(y_train.shape)\n"
   ]
  },
  {
   "cell_type": "code",
   "execution_count": 11,
   "metadata": {},
   "outputs": [],
   "source": [
    "# y_train = y_train.reshape((len(y_train),))\n"
   ]
  },
  {
   "cell_type": "code",
   "execution_count": null,
   "metadata": {},
   "outputs": [],
   "source": [
    "# print(y_train.shape)\n",
    "# y_test = y_test.reshape((len(y_test),))"
   ]
  },
  {
   "cell_type": "code",
   "execution_count": 12,
   "metadata": {},
   "outputs": [],
   "source": [
    "from sklearn.ensemble import RandomForestRegressor\n",
    "from sklearn.datasets import make_regression\n",
    "X, y = make_regression(n_features=22)\n",
    "regr = RandomForestRegressor(max_depth=9, random_state=0, n_estimators=400)\n",
    "regr.fit(X_train, y_train)\n",
    "# regr.predict()\n",
    "y_pred = regr.predict(X_test)\n",
    "# y_pred.shape\n",
    "# y_pred = y_pred.reshape(-1,1)\n",
    "# y_pred.shape\n",
    "\n",
    "# y_test = y_test.reshape(-1,1)\n",
    "# y_test.shape"
   ]
  },
  {
   "cell_type": "code",
   "execution_count": 13,
   "metadata": {},
   "outputs": [
    {
     "data": {
      "text/plain": [
       "array([[   6510.56650958, 1168902.69864224],\n",
       "       [   9643.747575  , 1500535.60765698],\n",
       "       [   7397.14135958, 1410108.76747392],\n",
       "       [   7217.9646394 , 1539998.54040294],\n",
       "       [   5250.7531    , 1460147.38815328],\n",
       "       [   6899.05066125, 1237269.47782456],\n",
       "       [   7787.58618125, 1380989.25916048],\n",
       "       [   4599.06935   , 1413924.45292685],\n",
       "       [   6000.5071    , 1215051.97926919],\n",
       "       [   9832.1237    , 1726207.40154512]])"
      ]
     },
     "execution_count": 13,
     "metadata": {},
     "output_type": "execute_result"
    }
   ],
   "source": [
    "y_pred"
   ]
  },
  {
   "cell_type": "code",
   "execution_count": 14,
   "metadata": {},
   "outputs": [
    {
     "name": "stderr",
     "output_type": "stream",
     "text": [
      "c:\\Users\\User\\PycharmProjects\\IE610\\ven610\\lib\\site-packages\\sklearn\\base.py:434: FutureWarning: The default value of multioutput (not exposed in score method) will change from 'variance_weighted' to 'uniform_average' in 0.23 to keep consistent with 'metrics.r2_score'. To specify the default value manually and avoid the warning, please either call 'metrics.r2_score' directly or make a custom scorer with 'metrics.make_scorer' (the built-in scorer 'r2' uses multioutput='uniform_average').\n",
      "  \"multioutput='uniform_average').\", FutureWarning)\n"
     ]
    },
    {
     "data": {
      "text/plain": [
       "0.5953111221480839"
      ]
     },
     "execution_count": 14,
     "metadata": {},
     "output_type": "execute_result"
    }
   ],
   "source": [
    "ss = regr.score(X_test, y_test, sample_weight=None)\n",
    "ss"
   ]
  },
  {
   "cell_type": "code",
   "execution_count": 15,
   "metadata": {},
   "outputs": [
    {
     "name": "stderr",
     "output_type": "stream",
     "text": [
      "c:\\Users\\User\\PycharmProjects\\IE610\\ven610\\lib\\site-packages\\sklearn\\base.py:434: FutureWarning: The default value of multioutput (not exposed in score method) will change from 'variance_weighted' to 'uniform_average' in 0.23 to keep consistent with 'metrics.r2_score'. To specify the default value manually and avoid the warning, please either call 'metrics.r2_score' directly or make a custom scorer with 'metrics.make_scorer' (the built-in scorer 'r2' uses multioutput='uniform_average').\n",
      "  \"multioutput='uniform_average').\", FutureWarning)\n"
     ]
    },
    {
     "data": {
      "text/plain": [
       "0.9524863085304145"
      ]
     },
     "execution_count": 15,
     "metadata": {},
     "output_type": "execute_result"
    }
   ],
   "source": [
    "aa = regr.score(X_train, y_train, sample_weight=None)\n",
    "aa"
   ]
  },
  {
   "attachments": {},
   "cell_type": "markdown",
   "metadata": {},
   "source": [
    "## separate responses:"
   ]
  },
  {
   "cell_type": "code",
   "execution_count": 62,
   "metadata": {},
   "outputs": [],
   "source": [
    "# Prediction for \"TR\":\n",
    "\n",
    "Y = df.iloc[:,[24]]\n",
    "X = df.iloc[:,1:24]\n",
    "Y = np.array(Y).astype(\"int\")\n",
    "X = np.array(X)"
   ]
  },
  {
   "cell_type": "code",
   "execution_count": 67,
   "metadata": {},
   "outputs": [
    {
     "data": {
      "text/plain": [
       "array([ 1223.72,  1223.72,  1223.72,  1223.72,  1223.72,  1223.72,\n",
       "        1223.72,  1223.72,  1223.72,  1223.72,  1223.72,  1223.72,\n",
       "        1223.72,  3838.9 ,  7043.07,  6856.86,  5027.31, 10184.28,\n",
       "        9627.24, 11313.11,  6122.36,  5694.75,  6861.99,  4488.13,\n",
       "        1855.2 , 10471.17, 14027.96, 15606.45,  6561.28,  7060.72,\n",
       "       13171.34, 14413.59,  4739.22, 22139.55,  9028.7 ,  6288.36,\n",
       "         246.31,  7180.04,  8446.36, 19370.96, 18349.97, 19943.08,\n",
       "        9522.85,  8199.07, 15401.41,  6570.72,  6676.76,  1630.23,\n",
       "        4587.06,  2563.2 ])"
      ]
     },
     "execution_count": 67,
     "metadata": {},
     "output_type": "execute_result"
    }
   ],
   "source": [
    "X[:,-1]"
   ]
  },
  {
   "cell_type": "code",
   "execution_count": 58,
   "metadata": {},
   "outputs": [
    {
     "name": "stdout",
     "output_type": "stream",
     "text": [
      "(40, 1)\n",
      "(40,)\n"
     ]
    }
   ],
   "source": [
    "X_train, X_test, y_train, y_test = train_test_split(X, Y, test_size=0.2, random_state=109) # 80% training and 20% test\n",
    "\n",
    "print(y_train.shape)\n",
    "y_train = y_train.reshape((len(y_train),))\n",
    "print(y_train.shape)\n",
    "y_test = y_test.reshape((len(y_test),))"
   ]
  },
  {
   "cell_type": "code",
   "execution_count": 59,
   "metadata": {},
   "outputs": [
    {
     "data": {
      "text/plain": [
       "(10, 1)"
      ]
     },
     "execution_count": 59,
     "metadata": {},
     "output_type": "execute_result"
    }
   ],
   "source": [
    "from sklearn.ensemble import RandomForestRegressor\n",
    "from sklearn.datasets import make_regression\n",
    "\n",
    "X, y = make_regression(n_features=22)\n",
    "regr = RandomForestRegressor(max_depth=8, random_state=0,n_estimators=400)\n",
    "regr.fit(X_train, y_train)\n",
    "# regr.predict()\n",
    "y_pred = regr.predict(X_test)\n",
    "y_pred.shape\n",
    "y_pred = y_pred.reshape(-1,1)\n",
    "y_pred.shape\n",
    "\n",
    "y_test = y_test.reshape(-1,1)\n",
    "y_test.shape"
   ]
  },
  {
   "cell_type": "code",
   "execution_count": 60,
   "metadata": {},
   "outputs": [
    {
     "data": {
      "text/plain": [
       "array([[1164859.73576786],\n",
       "       [1488896.42066667],\n",
       "       [1414562.3087619 ],\n",
       "       [1541550.9155625 ],\n",
       "       [1443568.75164286],\n",
       "       [1252328.82395536],\n",
       "       [1431103.10254167],\n",
       "       [1423978.42116667],\n",
       "       [1206788.78266667],\n",
       "       [1702844.34708333]])"
      ]
     },
     "execution_count": 60,
     "metadata": {},
     "output_type": "execute_result"
    }
   ],
   "source": [
    "y_pred"
   ]
  },
  {
   "cell_type": "code",
   "execution_count": 68,
   "metadata": {},
   "outputs": [
    {
     "data": {
      "text/plain": [
       "0.5822436622425254"
      ]
     },
     "execution_count": 68,
     "metadata": {},
     "output_type": "execute_result"
    }
   ],
   "source": [
    "ss = regr.score(X_test, y_test, sample_weight=None)\n",
    "ss"
   ]
  },
  {
   "cell_type": "code",
   "execution_count": 55,
   "metadata": {},
   "outputs": [
    {
     "data": {
      "text/plain": [
       "0.5947184742976228"
      ]
     },
     "execution_count": 55,
     "metadata": {},
     "output_type": "execute_result"
    }
   ],
   "source": [
    "from sklearn.metrics import r2_score\n",
    "r2_score(y_test, y_pred)"
   ]
  },
  {
   "cell_type": "code",
   "execution_count": null,
   "metadata": {},
   "outputs": [],
   "source": []
  }
 ],
 "metadata": {
  "kernelspec": {
   "display_name": "myEnv",
   "language": "python",
   "name": "python3"
  },
  "language_info": {
   "codemirror_mode": {
    "name": "ipython",
    "version": 3
   },
   "file_extension": ".py",
   "mimetype": "text/x-python",
   "name": "python",
   "nbconvert_exporter": "python",
   "pygments_lexer": "ipython3",
   "version": "3.7.7"
  },
  "orig_nbformat": 4
 },
 "nbformat": 4,
 "nbformat_minor": 2
}
