{
 "cells": [
  {
   "cell_type": "code",
   "execution_count": 1,
   "metadata": {},
   "outputs": [],
   "source": [
    "# Bootstrapping_data\n",
    "\n",
    "import numpy as np\n",
    "import pandas as pd\n",
    "import matplotlib.pyplot as plt\n",
    "import scipy.stats\n",
    "from scipy.stats import norm\n",
    "from scipy.stats import bootstrap"
   ]
  },
  {
   "cell_type": "code",
   "execution_count": 2,
   "metadata": {},
   "outputs": [],
   "source": [
    "df = pd.read_excel(\"Data_Treatment - Great_Lakes.xlsx\", sheet_name = \"Compiled_Data (2)\")\n",
    "# df\n",
    "\n",
    "# df = df.drop([\"Dates\"], axis = 1)\n",
    "heads = df.columns.to_list()\n",
    "# heads"
   ]
  },
  {
   "cell_type": "code",
   "execution_count": null,
   "metadata": {},
   "outputs": [],
   "source": [
    "df = df.fillna(method=\"backfill\")"
   ]
  },
  {
   "cell_type": "code",
   "execution_count": null,
   "metadata": {},
   "outputs": [],
   "source": [
    "df.head(100)"
   ]
  },
  {
   "cell_type": "code",
   "execution_count": null,
   "metadata": {},
   "outputs": [],
   "source": [
    "\n",
    "# df.to_excel(\"Output_backward_replace.xlsx\")"
   ]
  },
  {
   "attachments": {},
   "cell_type": "markdown",
   "metadata": {},
   "source": [
    "## Process indicators (separate responses):"
   ]
  },
  {
   "cell_type": "code",
   "execution_count": 12,
   "metadata": {},
   "outputs": [],
   "source": [
    "# Prediction for \"TR\":\n",
    "\n",
    "Y = df.iloc[:,[24]]\n",
    "X = df.iloc[:,1:24]\n",
    "Y = np.array(Y).astype(\"int\")\n",
    "X = np.array(X)"
   ]
  },
  {
   "cell_type": "code",
   "execution_count": 13,
   "metadata": {},
   "outputs": [
    {
     "data": {
      "text/plain": [
       "array([[1071257],\n",
       "       [1141260],\n",
       "       [1549263],\n",
       "       [1400876],\n",
       "       [1328409],\n",
       "       [1545815],\n",
       "       [1196442],\n",
       "       [1060181],\n",
       "       [1072771],\n",
       "       [1179441],\n",
       "       [ 989598],\n",
       "       [ 992311],\n",
       "       [ 835703],\n",
       "       [1214996],\n",
       "       [1138479],\n",
       "       [ 400664],\n",
       "       [1063498],\n",
       "       [1262001],\n",
       "       [1284330],\n",
       "       [1505487],\n",
       "       [1353981],\n",
       "       [1477237],\n",
       "       [1132751],\n",
       "       [ 941588],\n",
       "       [1249500],\n",
       "       [1192354],\n",
       "       [1527448],\n",
       "       [1397490],\n",
       "       [1821182],\n",
       "       [1377637],\n",
       "       [1499811],\n",
       "       [1355621],\n",
       "       [1234190],\n",
       "       [1913573],\n",
       "       [1489595],\n",
       "       [1155759],\n",
       "       [1586400],\n",
       "       [1500478],\n",
       "       [1765177],\n",
       "       [2494097],\n",
       "       [1765268],\n",
       "       [1787546],\n",
       "       [2220315],\n",
       "       [1695214],\n",
       "       [1755096],\n",
       "       [2086557],\n",
       "       [1474379],\n",
       "       [1240035],\n",
       "       [1556102],\n",
       "       [1290517]])"
      ]
     },
     "execution_count": 13,
     "metadata": {},
     "output_type": "execute_result"
    }
   ],
   "source": [
    "Y"
   ]
  },
  {
   "cell_type": "code",
   "execution_count": 14,
   "metadata": {},
   "outputs": [
    {
     "name": "stdout",
     "output_type": "stream",
     "text": [
      "(40, 1)\n",
      "(40,)\n"
     ]
    }
   ],
   "source": [
    "from sklearn.model_selection import train_test_split\n",
    "\n",
    "X_train, X_test, y_train, y_test = train_test_split(X, Y, test_size=0.2, random_state=47) # 80% training and 20% test\n",
    "\n",
    "print(y_train.shape)\n",
    "y_train = y_train.reshape((len(y_train),))\n",
    "print(y_train.shape)\n",
    "y_test = y_test.reshape((len(y_test),))"
   ]
  },
  {
   "cell_type": "code",
   "execution_count": 15,
   "metadata": {},
   "outputs": [
    {
     "data": {
      "text/plain": [
       "(10, 1)"
      ]
     },
     "execution_count": 15,
     "metadata": {},
     "output_type": "execute_result"
    }
   ],
   "source": [
    "from sklearn.ensemble import RandomForestRegressor\n",
    "from sklearn.datasets import make_regression\n",
    "\n",
    "X, y = make_regression(n_features=22)\n",
    "regr = RandomForestRegressor(max_depth=8, random_state=0,n_estimators=400)\n",
    "regr.fit(X_train, y_train)\n",
    "# regr.predict()\n",
    "y_pred = regr.predict(X_test)\n",
    "y_pred.shape\n",
    "y_pred = y_pred.reshape(-1,1)\n",
    "y_pred.shape\n",
    "\n",
    "y_test = y_test.reshape(-1,1)\n",
    "y_test.shape"
   ]
  },
  {
   "cell_type": "code",
   "execution_count": 16,
   "metadata": {},
   "outputs": [
    {
     "data": {
      "text/plain": [
       "array([[1734353.16533333],\n",
       "       [1588217.0226875 ],\n",
       "       [1407748.45875   ],\n",
       "       [1325740.7435119 ],\n",
       "       [1728797.9025    ],\n",
       "       [1513842.25      ],\n",
       "       [1603183.60520833],\n",
       "       [1405048.38      ],\n",
       "       [1086130.01433631],\n",
       "       [1537838.82125   ]])"
      ]
     },
     "execution_count": 16,
     "metadata": {},
     "output_type": "execute_result"
    }
   ],
   "source": [
    "y_pred"
   ]
  },
  {
   "cell_type": "code",
   "execution_count": 17,
   "metadata": {},
   "outputs": [
    {
     "data": {
      "text/plain": [
       "0.4623198315208038"
      ]
     },
     "execution_count": 17,
     "metadata": {},
     "output_type": "execute_result"
    }
   ],
   "source": [
    "ss = regr.score(X_test, y_test, sample_weight=None)\n",
    "ss"
   ]
  },
  {
   "cell_type": "code",
   "execution_count": 18,
   "metadata": {},
   "outputs": [
    {
     "data": {
      "text/plain": [
       "0.4623198315208038"
      ]
     },
     "execution_count": 18,
     "metadata": {},
     "output_type": "execute_result"
    }
   ],
   "source": [
    "from sklearn.metrics import r2_score\n",
    "r2_score(y_test, y_pred)"
   ]
  },
  {
   "cell_type": "code",
   "execution_count": null,
   "metadata": {},
   "outputs": [],
   "source": []
  },
  {
   "attachments": {},
   "cell_type": "markdown",
   "metadata": {},
   "source": [
    "## People Indicators"
   ]
  },
  {
   "cell_type": "code",
   "execution_count": null,
   "metadata": {},
   "outputs": [],
   "source": [
    "# Prediction for \"TR\":\n",
    "\n",
    "Y = df.iloc[:,[36]]\n",
    "X = df.iloc[:,26:35]\n",
    "Y = np.array(Y)\n",
    "X = np.array(X)"
   ]
  },
  {
   "cell_type": "code",
   "execution_count": null,
   "metadata": {},
   "outputs": [],
   "source": [
    "Y"
   ]
  },
  {
   "cell_type": "code",
   "execution_count": null,
   "metadata": {},
   "outputs": [],
   "source": [
    "from sklearn.model_selection import train_test_split\n",
    "\n",
    "X_train, X_test, y_train, y_test = train_test_split(X, Y, test_size=0.2, random_state=47) # 80% training and 20% test\n",
    "\n",
    "print(y_train.shape)\n",
    "y_train = y_train.reshape((len(y_train),))\n",
    "print(y_train.shape)\n",
    "y_test = y_test.reshape((len(y_test),))"
   ]
  },
  {
   "cell_type": "code",
   "execution_count": null,
   "metadata": {},
   "outputs": [],
   "source": [
    "from sklearn.ensemble import RandomForestRegressor\n",
    "from sklearn.datasets import make_regression\n",
    "\n",
    "X, y = make_regression(n_features=9)\n",
    "regr = RandomForestRegressor(max_depth=8, random_state=0,n_estimators=100)\n",
    "regr.fit(X_train, y_train)\n",
    "# regr.predict()\n",
    "y_pred = regr.predict(X_test)\n",
    "y_pred.shape\n",
    "y_pred = y_pred.reshape(-1,1)\n",
    "y_pred.shape\n",
    "\n",
    "y_test = y_test.reshape(-1,1)\n",
    "y_test.shape"
   ]
  },
  {
   "cell_type": "code",
   "execution_count": null,
   "metadata": {},
   "outputs": [],
   "source": [
    "y_pred"
   ]
  },
  {
   "cell_type": "code",
   "execution_count": null,
   "metadata": {},
   "outputs": [],
   "source": [
    "ss = regr.score(X_test, y_test, sample_weight=None)\n",
    "ss"
   ]
  },
  {
   "cell_type": "code",
   "execution_count": null,
   "metadata": {},
   "outputs": [],
   "source": []
  }
 ],
 "metadata": {
  "kernelspec": {
   "display_name": "ven610",
   "language": "python",
   "name": "python3"
  },
  "language_info": {
   "codemirror_mode": {
    "name": "ipython",
    "version": 3
   },
   "file_extension": ".py",
   "mimetype": "text/x-python",
   "name": "python",
   "nbconvert_exporter": "python",
   "pygments_lexer": "ipython3",
   "version": "3.7.7"
  },
  "orig_nbformat": 4,
  "vscode": {
   "interpreter": {
    "hash": "b71b3a05d14e972ac757b1afd52d6937e631e52b99a8b0bb96ec9afb5c1aecfa"
   }
  }
 },
 "nbformat": 4,
 "nbformat_minor": 2
}
