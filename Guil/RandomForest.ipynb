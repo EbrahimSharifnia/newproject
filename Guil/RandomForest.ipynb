{
 "cells": [
  {
   "cell_type": "code",
   "execution_count": 69,
   "metadata": {},
   "outputs": [],
   "source": [
    "# Bootstrapping_data\n",
    "\n",
    "import numpy as np\n",
    "import pandas as pd\n",
    "import matplotlib.pyplot as plt\n",
    "import scipy.stats\n",
    "from scipy.stats import norm\n",
    "from scipy.stats import bootstrap"
   ]
  },
  {
   "cell_type": "code",
   "execution_count": 70,
   "metadata": {},
   "outputs": [],
   "source": [
    "df = pd.read_excel(\"Data_Treatment - Great_Lakes.xlsx\", sheet_name = \"Compiled_Data\")\n",
    "# df\n",
    "\n",
    "# df = df.drop([\"Dates\"], axis = 1)\n",
    "heads = df.columns.to_list()\n",
    "# heads"
   ]
  },
  {
   "cell_type": "code",
   "execution_count": 71,
   "metadata": {},
   "outputs": [],
   "source": [
    "df = df.fillna(method=\"bfill\")"
   ]
  },
  {
   "cell_type": "code",
   "execution_count": 72,
   "metadata": {},
   "outputs": [],
   "source": [
    "# df.head(100)"
   ]
  },
  {
   "cell_type": "code",
   "execution_count": 74,
   "metadata": {},
   "outputs": [],
   "source": [
    "\n",
    "# df.to_excel(\"Output_backward_replace.xlsx\")"
   ]
  },
  {
   "attachments": {},
   "cell_type": "markdown",
   "metadata": {},
   "source": [
    "## separate responses:"
   ]
  },
  {
   "cell_type": "code",
   "execution_count": 91,
   "metadata": {},
   "outputs": [],
   "source": [
    "# Prediction for \"TR\":\n",
    "\n",
    "Y = df.iloc[:,[25]]\n",
    "X = df.iloc[:,1:24]\n",
    "Y = np.array(Y).astype(\"int\")\n",
    "X = np.array(X)"
   ]
  },
  {
   "cell_type": "code",
   "execution_count": 92,
   "metadata": {},
   "outputs": [
    {
     "data": {
      "text/plain": [
       "array([[ 728455],\n",
       "       [ 730406],\n",
       "       [1332366],\n",
       "       [1120700],\n",
       "       [ 690772],\n",
       "       [1205736],\n",
       "       [ 622150],\n",
       "       [ 710321],\n",
       "       [ 740212],\n",
       "       [ 601515],\n",
       "       [ 742198],\n",
       "       [ 506078],\n",
       "       [ 526493],\n",
       "       [ 765447],\n",
       "       [ 967707],\n",
       "       [ 216359],\n",
       "       [ 882703],\n",
       "       [1060081],\n",
       "       [ 577948],\n",
       "       [1264609],\n",
       "       [ 853008],\n",
       "       [ 842025],\n",
       "       [ 826908],\n",
       "       [ 969835],\n",
       "       [ 912135],\n",
       "       [1037348],\n",
       "       [1284035],\n",
       "       [1076968],\n",
       "       [1038604],\n",
       "       [1076228],\n",
       "       [ 817978],\n",
       "       [ 983130],\n",
       "       [ 923178],\n",
       "       [1015414],\n",
       "       [1106287],\n",
       "       [ 617158],\n",
       "       [1085896],\n",
       "       [1022011],\n",
       "       [1497733],\n",
       "       [1403447],\n",
       "       [1438191],\n",
       "       [1604156],\n",
       "       [1112991],\n",
       "       [1429285],\n",
       "       [1134213],\n",
       "       [1177912],\n",
       "       [1106375],\n",
       "       [1286561],\n",
       "       [1165945],\n",
       "       [1138028]])"
      ]
     },
     "execution_count": 92,
     "metadata": {},
     "output_type": "execute_result"
    }
   ],
   "source": [
    "Y"
   ]
  },
  {
   "cell_type": "code",
   "execution_count": 93,
   "metadata": {},
   "outputs": [
    {
     "name": "stdout",
     "output_type": "stream",
     "text": [
      "(40, 1)\n",
      "(40,)\n"
     ]
    }
   ],
   "source": [
    "X_train, X_test, y_train, y_test = train_test_split(X, Y, test_size=0.2, random_state=109) # 80% training and 20% test\n",
    "\n",
    "print(y_train.shape)\n",
    "y_train = y_train.reshape((len(y_train),))\n",
    "print(y_train.shape)\n",
    "y_test = y_test.reshape((len(y_test),))"
   ]
  },
  {
   "cell_type": "code",
   "execution_count": 94,
   "metadata": {},
   "outputs": [
    {
     "data": {
      "text/plain": [
       "(10, 1)"
      ]
     },
     "execution_count": 94,
     "metadata": {},
     "output_type": "execute_result"
    }
   ],
   "source": [
    "from sklearn.ensemble import RandomForestRegressor\n",
    "from sklearn.datasets import make_regression\n",
    "\n",
    "X, y = make_regression(n_features=22)\n",
    "regr = RandomForestRegressor(max_depth=8, random_state=0,n_estimators=400)\n",
    "regr.fit(X_train, y_train)\n",
    "# regr.predict()\n",
    "y_pred = regr.predict(X_test)\n",
    "y_pred.shape\n",
    "y_pred = y_pred.reshape(-1,1)\n",
    "y_pred.shape\n",
    "\n",
    "y_test = y_test.reshape(-1,1)\n",
    "y_test.shape"
   ]
  },
  {
   "cell_type": "code",
   "execution_count": 95,
   "metadata": {},
   "outputs": [
    {
     "data": {
      "text/plain": [
       "array([[ 915156.984875  ],\n",
       "       [1082745.55035714],\n",
       "       [1098610.97739286],\n",
       "       [1177909.69845238],\n",
       "       [1071669.07139286],\n",
       "       [ 904700.39066667],\n",
       "       [1077051.91360119],\n",
       "       [1080050.60491369],\n",
       "       [1005661.2495    ],\n",
       "       [1172022.71285119]])"
      ]
     },
     "execution_count": 95,
     "metadata": {},
     "output_type": "execute_result"
    }
   ],
   "source": [
    "y_pred"
   ]
  },
  {
   "cell_type": "code",
   "execution_count": 96,
   "metadata": {},
   "outputs": [
    {
     "data": {
      "text/plain": [
       "-0.05914735458413345"
      ]
     },
     "execution_count": 96,
     "metadata": {},
     "output_type": "execute_result"
    }
   ],
   "source": [
    "ss = regr.score(X_test, y_test, sample_weight=None)\n",
    "ss"
   ]
  },
  {
   "cell_type": "code",
   "execution_count": 90,
   "metadata": {},
   "outputs": [
    {
     "data": {
      "text/plain": [
       "0.5822436622425254"
      ]
     },
     "execution_count": 90,
     "metadata": {},
     "output_type": "execute_result"
    }
   ],
   "source": [
    "from sklearn.metrics import r2_score\n",
    "r2_score(y_test, y_pred)"
   ]
  },
  {
   "cell_type": "code",
   "execution_count": null,
   "metadata": {},
   "outputs": [],
   "source": []
  }
 ],
 "metadata": {
  "kernelspec": {
   "display_name": "myEnv",
   "language": "python",
   "name": "python3"
  },
  "language_info": {
   "codemirror_mode": {
    "name": "ipython",
    "version": 3
   },
   "file_extension": ".py",
   "mimetype": "text/x-python",
   "name": "python",
   "nbconvert_exporter": "python",
   "pygments_lexer": "ipython3",
   "version": "3.7.7"
  },
  "orig_nbformat": 4
 },
 "nbformat": 4,
 "nbformat_minor": 2
}
