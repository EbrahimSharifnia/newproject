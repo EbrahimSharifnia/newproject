{
 "cells": [
  {
   "cell_type": "code",
   "execution_count": 38,
   "metadata": {},
   "outputs": [],
   "source": [
    "import numpy as np\n",
    "import pandas as pd\n",
    "import matplotlib.pyplot as plt\n",
    "import scipy.stats\n",
    "from scipy.stats import norm\n",
    "from scipy.stats import bootstrap\n",
    "\n",
    "from sklearn.linear_model import LogisticRegression\n",
    "from sklearn.model_selection import train_test_split\n",
    "from sklearn.preprocessing import StandardScaler\n",
    "from sklearn.preprocessing import MinMaxScaler\n",
    "from sklearn.preprocessing import normalize"
   ]
  },
  {
   "cell_type": "code",
   "execution_count": 39,
   "metadata": {},
   "outputs": [],
   "source": [
    "df = pd.read_excel(\"Data_Predictive_Models.xlsx\", sheet_name = \"Data_Predictive_Models\")\n",
    "# df"
   ]
  },
  {
   "cell_type": "markdown",
   "metadata": {},
   "source": [
    "## Process indicators (separate responses):"
   ]
  },
  {
   "cell_type": "code",
   "execution_count": 40,
   "metadata": {},
   "outputs": [],
   "source": [
    "Y = df.iloc[:,[24]]\n",
    "X = df.iloc[:,1:24]"
   ]
  },
  {
   "cell_type": "code",
   "execution_count": 41,
   "metadata": {},
   "outputs": [
    {
     "data": {
      "text/plain": [
       "array([[-0.89146903],\n",
       "       [-0.69653556],\n",
       "       [ 0.43961264],\n",
       "       [ 0.0264044 ],\n",
       "       [-0.17539157],\n",
       "       [ 0.43001081],\n",
       "       [-0.5428715 ],\n",
       "       [-0.9223118 ],\n",
       "       [-0.88725309],\n",
       "       [-0.59021347],\n",
       "       [-1.11886121],\n",
       "       [-1.1113067 ],\n",
       "       [-1.54740656],\n",
       "       [-0.4912057 ],\n",
       "       [-0.70427861],\n",
       "       [-2.75883737],\n",
       "       [-0.91307693],\n",
       "       [-0.36031217],\n",
       "       [-0.29813533],\n",
       "       [ 0.31770932],\n",
       "       [-0.10418238],\n",
       "       [ 0.23904501],\n",
       "       [-0.72022994],\n",
       "       [-1.25255324],\n",
       "       [-0.39512543],\n",
       "       [-0.55425639],\n",
       "       [ 0.37886414],\n",
       "       [ 0.0169762 ],\n",
       "       [ 1.19681096],\n",
       "       [-0.03830791],\n",
       "       [ 0.30190353],\n",
       "       [-0.09961456],\n",
       "       [-0.43775637],\n",
       "       [ 1.45408928],\n",
       "       [ 0.27345756],\n",
       "       [-0.65616018],\n",
       "       [ 0.54302495],\n",
       "       [ 0.30376292],\n",
       "       [ 1.04085604],\n",
       "       [ 3.07064745],\n",
       "       [ 1.0411094 ],\n",
       "       [ 1.10314712],\n",
       "       [ 2.30825775],\n",
       "       [ 0.84603408],\n",
       "       [ 1.01278581],\n",
       "       [ 1.93578931],\n",
       "       [ 0.23108626],\n",
       "       [-0.42148064],\n",
       "       [ 0.45865466],\n",
       "       [-0.28090595]])"
      ]
     },
     "execution_count": 41,
     "metadata": {},
     "output_type": "execute_result"
    }
   ],
   "source": [
    "X_scaled = normalize(X, norm = 'l2')\n",
    "# Y_scaled = normalize(Y, norm = 'l2')\n",
    "Y_scaler = StandardScaler().fit(Y)\n",
    "# X_scaled = X_scaler.transform(X)\n",
    "Y_scaled = Y_scaler.transform(Y)\n",
    "\n",
    "\n",
    "Y_scaled"
   ]
  },
  {
   "cell_type": "code",
   "execution_count": 42,
   "metadata": {},
   "outputs": [],
   "source": [
    "X = X_scaled\n",
    "Y = Y_scaled"
   ]
  },
  {
   "cell_type": "code",
   "execution_count": 43,
   "metadata": {},
   "outputs": [],
   "source": [
    "Y = np.array(Y)\n",
    "X = np.array(X)"
   ]
  },
  {
   "cell_type": "code",
   "execution_count": 44,
   "metadata": {},
   "outputs": [
    {
     "name": "stdout",
     "output_type": "stream",
     "text": [
      "(40, 1)\n",
      "(40,)\n"
     ]
    }
   ],
   "source": [
    "from sklearn.model_selection import train_test_split\n",
    "\n",
    "X_train, X_test, y_train, y_test = train_test_split(X, Y, test_size=0.2, random_state=47) # 80% training and 20% test\n",
    "\n",
    "print(y_train.shape)\n",
    "y_train = y_train.reshape((len(y_train),))\n",
    "print(y_train.shape)\n",
    "y_test = y_test.reshape((len(y_test),))"
   ]
  },
  {
   "cell_type": "code",
   "execution_count": 45,
   "metadata": {},
   "outputs": [
    {
     "data": {
      "text/plain": [
       "(10, 1)"
      ]
     },
     "execution_count": 45,
     "metadata": {},
     "output_type": "execute_result"
    }
   ],
   "source": [
    "from sklearn.ensemble import RandomForestRegressor\n",
    "from sklearn.datasets import make_regression\n",
    "\n",
    "X, y = make_regression(n_features=22)\n",
    "regr = RandomForestRegressor(max_depth=12, random_state=0,n_estimators=400)\n",
    "regr.fit(X_train, y_train)\n",
    "# regr.predict()\n",
    "y_pred = regr.predict(X_test)\n",
    "y_pred.shape\n",
    "y_pred = y_pred.reshape(-1,1)\n",
    "y_pred.shape\n",
    "\n",
    "y_test = y_test.reshape(-1,1)\n",
    "y_test.shape"
   ]
  },
  {
   "cell_type": "code",
   "execution_count": 46,
   "metadata": {},
   "outputs": [
    {
     "data": {
      "text/plain": [
       "array([[-0.03699687],\n",
       "       [ 0.16718741],\n",
       "       [ 0.74679441],\n",
       "       [ 0.17485262],\n",
       "       [ 0.66254341],\n",
       "       [-0.18344902],\n",
       "       [-0.50571396],\n",
       "       [-0.2329515 ],\n",
       "       [-0.73581814],\n",
       "       [-0.04593622]])"
      ]
     },
     "execution_count": 46,
     "metadata": {},
     "output_type": "execute_result"
    }
   ],
   "source": [
    "y_pred"
   ]
  },
  {
   "cell_type": "code",
   "execution_count": 47,
   "metadata": {},
   "outputs": [
    {
     "data": {
      "text/plain": [
       "0.11505716339386274"
      ]
     },
     "execution_count": 47,
     "metadata": {},
     "output_type": "execute_result"
    }
   ],
   "source": [
    "ss = regr.score(X_test, y_test, sample_weight=None)\n",
    "ss"
   ]
  },
  {
   "cell_type": "markdown",
   "metadata": {},
   "source": [
    "## People Indicators"
   ]
  },
  {
   "cell_type": "code",
   "execution_count": null,
   "metadata": {},
   "outputs": [],
   "source": [
    "# Prediction for \"TR\":\n",
    "\n",
    "Y = df.iloc[:,[36]]\n",
    "X = df.iloc[:,26:35]\n",
    "Y = np.array(Y)\n",
    "X = np.array(X)"
   ]
  },
  {
   "cell_type": "code",
   "execution_count": null,
   "metadata": {},
   "outputs": [],
   "source": [
    "Y"
   ]
  },
  {
   "cell_type": "code",
   "execution_count": null,
   "metadata": {},
   "outputs": [],
   "source": [
    "from sklearn.model_selection import train_test_split\n",
    "\n",
    "X_train, X_test, y_train, y_test = train_test_split(X, Y, test_size=0.2, random_state=47) # 80% training and 20% test\n",
    "\n",
    "print(y_train.shape)\n",
    "y_train = y_train.reshape((len(y_train),))\n",
    "print(y_train.shape)\n",
    "y_test = y_test.reshape((len(y_test),))"
   ]
  },
  {
   "cell_type": "code",
   "execution_count": null,
   "metadata": {},
   "outputs": [],
   "source": [
    "from sklearn.ensemble import RandomForestRegressor\n",
    "from sklearn.datasets import make_regression\n",
    "\n",
    "X, y = make_regression(n_features=9)\n",
    "regr = RandomForestRegressor(max_depth=8, random_state=0,n_estimators=100)\n",
    "regr.fit(X_train, y_train)\n",
    "# regr.predict()\n",
    "y_pred = regr.predict(X_test)\n",
    "y_pred.shape\n",
    "y_pred = y_pred.reshape(-1,1)\n",
    "y_pred.shape\n",
    "\n",
    "y_test = y_test.reshape(-1,1)\n",
    "y_test.shape"
   ]
  },
  {
   "cell_type": "code",
   "execution_count": null,
   "metadata": {},
   "outputs": [],
   "source": [
    "y_pred"
   ]
  },
  {
   "cell_type": "code",
   "execution_count": null,
   "metadata": {},
   "outputs": [],
   "source": [
    "ss = regr.score(X_test, y_test, sample_weight=None)\n",
    "ss"
   ]
  }
 ],
 "metadata": {
  "kernelspec": {
   "display_name": "ven610",
   "language": "python",
   "name": "python3"
  },
  "language_info": {
   "codemirror_mode": {
    "name": "ipython",
    "version": 3
   },
   "file_extension": ".py",
   "mimetype": "text/x-python",
   "name": "python",
   "nbconvert_exporter": "python",
   "pygments_lexer": "ipython3",
   "version": "3.7.7"
  },
  "orig_nbformat": 4
 },
 "nbformat": 4,
 "nbformat_minor": 2
}
